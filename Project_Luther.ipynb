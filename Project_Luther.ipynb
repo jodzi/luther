{
 "cells": [
  {
   "cell_type": "markdown",
   "metadata": {},
   "source": [
    "## Project Luther - Movie Data"
   ]
  },
  {
   "cell_type": "markdown",
   "metadata": {},
   "source": [
    "**Client:**  Aragon Soma Entertainment (Movie Production Company)\n",
    "   * U.K. gross revenue has been stagnant over the past few years\n",
    "   * What can we do to pull in a larger audience in the U.K. and maximize revenue?"
   ]
  },
  {
   "cell_type": "markdown",
   "metadata": {},
   "source": [
    "**Data**:  Box Office Mojo, Wikipedia\n",
    "  * Scraped over 15,000 movies and narrowed it down to 1,300 U.S. movies that had U.K. revenue\n",
    "  * Scraped Wikipedia for names of all British actors/actresses"
   ]
  },
  {
   "cell_type": "markdown",
   "metadata": {},
   "source": [
    "#### I first import the modules I will be using and define some functions that will be used throughout my project.  BeautifulSoup is used to take the HTML of the webpage and outputs a soup object that allows me to search for certain tags/attributes/text."
   ]
  },
  {
   "cell_type": "code",
   "execution_count": 1,
   "metadata": {
    "collapsed": false
   },
   "outputs": [],
   "source": [
    "import urllib2\n",
    "from bs4 import BeautifulSoup\n",
    "import pickle\n",
    "import datetime\n",
    "import pandas as pd\n",
    "import json\n",
    "import csv\n",
    "import statsmodels.formula.api as smf\n",
    "import numpy as np\n",
    "import matplotlib.pyplot as plt\n",
    "import seaborn as sns\n",
    "sns.set_context('poster')\n",
    "% matplotlib inline"
   ]
  },
  {
   "cell_type": "markdown",
   "metadata": {},
   "source": [
    "#### Build pages"
   ]
  },
  {
   "cell_type": "code",
   "execution_count": 3,
   "metadata": {
    "collapsed": true
   },
   "outputs": [],
   "source": [
    "def build_soup_page(page = \"\", url = \"\", use_url=False):\n",
    "    \"\"\"\n",
    "    builds a beautifulsoup object from a url if a url is passed, otherwise just creates a BeautifulSoup object\n",
    "    \"\"\"\n",
    "    if use_url:\n",
    "        page = urllib2.urlopen(url)\n",
    "        soup = BeautifulSoup(page, 'xml')\n",
    "    else:\n",
    "        soup = BeautifulSoup(page)\n",
    "    return soup"
   ]
  },
  {
   "cell_type": "code",
   "execution_count": 4,
   "metadata": {
    "collapsed": true
   },
   "outputs": [],
   "source": [
    "def build_top_index(soup, to_search, beg_url):\n",
    "    \"\"\"\n",
    "    builds an index from a soup object with a search string\n",
    "    \"\"\"\n",
    "    \n",
    "    index = []\n",
    "    \n",
    "    for a in soup.find_all('a', href=True):\n",
    "        if a['href'].startswith(to_search):\n",
    "            index.append(beg_url + a['href'])\n",
    "    end_index = len(index) / 2\n",
    "    \n",
    "    return index[:end_index]"
   ]
  },
  {
   "cell_type": "code",
   "execution_count": 5,
   "metadata": {
    "collapsed": false
   },
   "outputs": [],
   "source": [
    "def build_sub_index(soup, search_one, search_two, beg_url):\n",
    "    \"\"\"\n",
    "    builds an index from a soup object with a search and count string\n",
    "    \"\"\"\n",
    "    \n",
    "    index = []\n",
    "    \n",
    "    for a in soup.find_all('a', href=True):\n",
    "        if a['href'].startswith(search_one) and re.search(search_two, a['href']) != None:\n",
    "            index.append(beg_url + a['href'])\n",
    "    end_index = len(index) / 2\n",
    "    \n",
    "    return index[:end_index]"
   ]
  },
  {
   "cell_type": "code",
   "execution_count": 6,
   "metadata": {
    "collapsed": false
   },
   "outputs": [],
   "source": [
    "def build_single_movie_url_list(total_urls, box_url):\n",
    "    \"\"\"\n",
    "    builds a list of every movies url\n",
    "    \"\"\"\n",
    "    \n",
    "    single_movie_url_tags = []\n",
    "\n",
    "    for full_site in total_urls:\n",
    "        soup = build_soup_page(full_site)\n",
    "        for a in soup.find_all('a', href=True):\n",
    "            if re.search('id', a['href']) != None and a['href'] not in single_movie_url_tags:\n",
    "                single_movie_url_tags[box_url + a['href']] = soup\n",
    "                #single_movie_url_tags.append(box_url + a['href'])   \n",
    "    return set(single_movie_url_tags)"
   ]
  },
  {
   "cell_type": "markdown",
   "metadata": {},
   "source": [
    "#### Pickle (save a file) of things as needed"
   ]
  },
  {
   "cell_type": "code",
   "execution_count": 3,
   "metadata": {
    "collapsed": true
   },
   "outputs": [],
   "source": [
    "def store_pickles(filename, to_store):\n",
    "    with open(filename, 'w') as f:\n",
    "        pickle.dump(to_store, f)\n",
    "        \n",
    "def eat_pickles(filename):\n",
    "    with open(filename, 'r') as f:\n",
    "        return pickle.load(f)"
   ]
  },
  {
   "cell_type": "markdown",
   "metadata": {},
   "source": [
    "#### Title"
   ]
  },
  {
   "cell_type": "code",
   "execution_count": 8,
   "metadata": {
    "collapsed": true
   },
   "outputs": [],
   "source": [
    "def get_movie_title(soup):\n",
    "    \"\"\"\n",
    "    takes a soup object of a movie page, and returns the title\n",
    "    \"\"\"\n",
    "    return str(soup.find('title').text.split(\"(\")[0].strip())"
   ]
  },
  {
   "cell_type": "markdown",
   "metadata": {},
   "source": [
    "#### Movie Gross"
   ]
  },
  {
   "cell_type": "code",
   "execution_count": 9,
   "metadata": {
    "collapsed": false
   },
   "outputs": [],
   "source": [
    "def get_movie_gross(soup):\n",
    "    \"\"\"\n",
    "    takes a soup object of a movie page, finds the value for the movie gross, replaces a few characters and returns\n",
    "    it as an integer\n",
    "    \"\"\"\n",
    "    obj = soup.find(text = re.compile('Domestic Total Gross'))\n",
    "    if not obj:\n",
    "        return None\n",
    "    movie_gross = obj.findNextSibling().text\n",
    "    if movie_gross:\n",
    "        return int(movie_gross.replace(',','').replace('$', ''))\n",
    "    else:\n",
    "        return None "
   ]
  },
  {
   "cell_type": "markdown",
   "metadata": {},
   "source": [
    "#### Release Date"
   ]
  },
  {
   "cell_type": "code",
   "execution_count": 10,
   "metadata": {
    "collapsed": false
   },
   "outputs": [],
   "source": [
    "def get_movie_release_date(soup):\n",
    "    \"\"\"\n",
    "    takes a soup object of a movie page, finds the value for the release date, converts it to a datetime object\n",
    "    and returns the object in date format YYYY-MM-DD\n",
    "    \"\"\"\n",
    "    obj = soup.find(text = re.compile('Release Date'))\n",
    "    if not obj:\n",
    "        return None\n",
    "    release_date = obj.findNextSibling().text\n",
    "    if release_date != 'N/A':\n",
    "        if release_date == 'TBD':\n",
    "            return str(release_date)\n",
    "        elif len(release_date.split()) == 3:\n",
    "            return datetime.datetime.strptime(release_date, '%B %d, %Y').date()\n",
    "        elif len(release_date.split()) == 1:\n",
    "            return datetime.datetime.strptime(release_date, '%Y').date()\n",
    "        \n",
    "        else:\n",
    "            return None"
   ]
  },
  {
   "cell_type": "markdown",
   "metadata": {},
   "source": [
    "#### Runtime"
   ]
  },
  {
   "cell_type": "code",
   "execution_count": 11,
   "metadata": {
    "collapsed": true
   },
   "outputs": [],
   "source": [
    "def get_movie_runtime(soup):\n",
    "    \"\"\"\n",
    "    takes a soup object of a movie page, finds the value for the runtime, splits the string and returns an integer\n",
    "    of total minutes.\n",
    "    \"\"\"\n",
    "    obj = soup.find(text = re.compile('Runtime'))\n",
    "    if not obj:\n",
    "        return None\n",
    "    runtime = obj.findNextSibling().text\n",
    "    if runtime and runtime != 'N/A':\n",
    "        return int(runtime.split(' ')[0]) * 60 + int(runtime.split(' ')[2])      \n",
    "    else:\n",
    "        return None "
   ]
  },
  {
   "cell_type": "markdown",
   "metadata": {},
   "source": [
    "#### Budget"
   ]
  },
  {
   "cell_type": "code",
   "execution_count": 12,
   "metadata": {
    "collapsed": true
   },
   "outputs": [],
   "source": [
    "def get_movie_budget(soup):\n",
    "    \"\"\"\n",
    "    takes a soup object of a movie page, finds the value for the budget, splits the string and returns an integer\n",
    "    of budget.\n",
    "    \"\"\"\n",
    "    obj = soup.find(text = re.compile('Production Budget'))\n",
    "    if not obj:\n",
    "        return None\n",
    "    budget = obj.findNextSibling().text\n",
    "    if budget and budget != 'N/A':\n",
    "        if '.' in budget:\n",
    "            return int(budget.split()[0].split('.')[0].replace('$', '') + budget.split()[0].split('.')[1] + '00000')\n",
    "        elif ',' in budget:\n",
    "            return int(budget.split(',')[0].replace('$', '') + budget.split(',')[1])\n",
    "        else:\n",
    "            return int(budget.split()[0].replace('$', '') + '000000')\n",
    "    else:\n",
    "        return None "
   ]
  },
  {
   "cell_type": "markdown",
   "metadata": {},
   "source": [
    "#### Rating"
   ]
  },
  {
   "cell_type": "code",
   "execution_count": 13,
   "metadata": {
    "collapsed": true
   },
   "outputs": [],
   "source": [
    "def get_movie_rating(soup):\n",
    "    \"\"\"\n",
    "    takes a string attribute of a movie on the page, and returns the string in the next\n",
    "    sibling object (the value for that attritube)\n",
    "    \"\"\"\n",
    "    obj = soup.find(text = re.compile('Rating'))\n",
    "    if not obj:\n",
    "        return None\n",
    "    rating = obj.findNextSibling().text\n",
    "    if rating:\n",
    "        return str(rating)\n",
    "    else:\n",
    "        return None "
   ]
  },
  {
   "cell_type": "markdown",
   "metadata": {},
   "source": [
    "#### Foreign Total Gross"
   ]
  },
  {
   "cell_type": "code",
   "execution_count": 14,
   "metadata": {
    "collapsed": true
   },
   "outputs": [],
   "source": [
    "def get_movie_foreign_gross(soup):\n",
    "    \"\"\"\n",
    "    takes a soup object of a movie page, finds the value for the movie gross, replaces a few characters and returns\n",
    "    it as an integer\n",
    "    \"\"\"\n",
    "    obj = soup.find_all(width=\"35%\")\n",
    "    if not obj:\n",
    "        return None\n",
    "    if len(obj) > 1:\n",
    "        foreign_tot_gross = obj[1].text.strip()\n",
    "        if foreign_tot_gross != 'n/a':\n",
    "            return int(''.join(foreign_tot_gross.replace('$','').split(',')))\n",
    "    else:\n",
    "        return None "
   ]
  },
  {
   "cell_type": "markdown",
   "metadata": {},
   "source": [
    "#### Genre"
   ]
  },
  {
   "cell_type": "code",
   "execution_count": 15,
   "metadata": {
    "collapsed": true
   },
   "outputs": [],
   "source": [
    "def get_movie_genre(soup):\n",
    "    \"\"\"\n",
    "    takes a string attribute of a movie on the page, and returns the string in the next\n",
    "    sibling object (the value for that attritube)\n",
    "    \"\"\"\n",
    "    obj = soup.find(text = re.compile(\"Genre: \"))\n",
    "    if not obj:\n",
    "        return None\n",
    "    genre = obj.findNextSibling().text\n",
    "    if genre:\n",
    "        return str(genre)\n",
    "    else:\n",
    "        return None "
   ]
  },
  {
   "cell_type": "markdown",
   "metadata": {},
   "source": [
    "#### Distributor"
   ]
  },
  {
   "cell_type": "code",
   "execution_count": 16,
   "metadata": {
    "collapsed": true
   },
   "outputs": [],
   "source": [
    "def get_movie_distributor(soup):\n",
    "    \"\"\"\n",
    "    takes a string attribute of a movie on the page, and returns the string in the next\n",
    "    sibling object (the value for that attritube)\n",
    "    \"\"\"\n",
    "    obj = soup.find(text = re.compile(\"Distributor\"))\n",
    "    if not obj:\n",
    "        return None\n",
    "    dist = obj.findNextSibling().text\n",
    "    if dist:\n",
    "        return str(dist)\n",
    "    else:\n",
    "        return None "
   ]
  },
  {
   "cell_type": "markdown",
   "metadata": {},
   "source": [
    "#### Actors"
   ]
  },
  {
   "cell_type": "code",
   "execution_count": 17,
   "metadata": {
    "collapsed": true
   },
   "outputs": [],
   "source": [
    "def get_movie_actors(soup):\n",
    "    \n",
    "    actor_list = []\n",
    "\n",
    "    for a in soup.find_all('a', href=True):\n",
    "        if a['href'].startswith('/people/chart/?view=Actor'):\n",
    "            section = a.find_parent('font')\n",
    "            for i in range(0, len(section), 2):\n",
    "                try:\n",
    "                    actor_list.append(str(section.contents[i].text))\n",
    "                except:\n",
    "                    try:\n",
    "                        actor_list.append(str(section.contents[i]))\n",
    "                    except:\n",
    "                        actor_list.append(section.contents[i])\n",
    "    return list(set(actor_list))"
   ]
  },
  {
   "cell_type": "markdown",
   "metadata": {},
   "source": [
    "####Build an index of movie pages from A-Z"
   ]
  },
  {
   "cell_type": "code",
   "execution_count": 427,
   "metadata": {
    "collapsed": true
   },
   "outputs": [],
   "source": [
    "# creates a soup object containing the href for all pages A-Z & NUM\n",
    "#movie_pages_az_level = build_soup_page(\"http://www.boxofficemojo.com/movies\")\n",
    "\n",
    "# builds a list of each url ending for NUM and A-Z movie pages\n",
    "#movie_pages_az_urls = build_top_index(movie_pages_az_level, 'alphabetical', \"http://www.boxofficemojo.com/movies/\")"
   ]
  },
  {
   "cell_type": "markdown",
   "metadata": {},
   "source": [
    "#### Build sub level pages for each letter of title, also pickled (top_pages.pkl)"
   ]
  },
  {
   "cell_type": "code",
   "execution_count": null,
   "metadata": {
    "collapsed": true
   },
   "outputs": [],
   "source": [
    "# Builds total urls for all pages of movies\n",
    "#total_urls = movie_pages_az_urls[:]\n",
    "\n",
    "#for movie_page in movie_pages_az_urls:\n",
    "#    top_level_soup = build_soup_page(movie_page)\n",
    "#    sub_level = build_sub_index(top_level_soup, '/movies/', 'page', \"http://www.boxofficemojo.com\")\n",
    "#    if len(sub_level) > 0:\n",
    "#        for sub_level_url in sub_level:\n",
    "#            if sub_level_url.count('id') == 0:\n",
    "#                total_urls.append(sub_level_url)"
   ]
  },
  {
   "cell_type": "markdown",
   "metadata": {},
   "source": [
    "###Begin here:  In order to save time and not hit box office mojo's server so many times, I've used a pickled file of almost all the movies on the website created by a colleague."
   ]
  },
  {
   "cell_type": "code",
   "execution_count": 4,
   "metadata": {
    "collapsed": false
   },
   "outputs": [],
   "source": [
    "jar_of_pickles = eat_pickles('page_data.pkl')"
   ]
  },
  {
   "cell_type": "markdown",
   "metadata": {},
   "source": [
    "We have 15,394 movie page data to explore"
   ]
  },
  {
   "cell_type": "code",
   "execution_count": 30,
   "metadata": {
    "collapsed": false
   },
   "outputs": [
    {
     "data": {
      "text/plain": [
       "15394"
      ]
     },
     "execution_count": 30,
     "metadata": {},
     "output_type": "execute_result"
    }
   ],
   "source": [
    "len(jar_of_pickles)"
   ]
  },
  {
   "cell_type": "code",
   "execution_count": 6,
   "metadata": {
    "collapsed": false
   },
   "outputs": [],
   "source": [
    "#jar_of_pickles.items()[0]"
   ]
  },
  {
   "cell_type": "markdown",
   "metadata": {},
   "source": [
    "####Filter the movie pages and compile a list of movies that only have a foreign revenue page (otherwise that movie would have no U.K. revenue)."
   ]
  },
  {
   "cell_type": "code",
   "execution_count": null,
   "metadata": {
    "collapsed": true
   },
   "outputs": [],
   "source": [
    "foreign_pages = []\n",
    "\n",
    "for url, html in jar_of_pickles.iteritems():\n",
    "    movie_soup = build_soup_page(html)\n",
    "    if movie_soup.find(attrs={'href': re.compile('page=intl')}) != None:\n",
    "        foreign_pages.append(url)"
   ]
  },
  {
   "cell_type": "markdown",
   "metadata": {},
   "source": [
    "#### Create the url's for each movie's foreign revenue page by splitting the main page and inserting the 'page=intl' so I can scrape those pages for U.K. revenue."
   ]
  },
  {
   "cell_type": "code",
   "execution_count": null,
   "metadata": {
    "collapsed": true
   },
   "outputs": [],
   "source": [
    "foreign_urls = [str(foreign_pages[i]).split('?')[0] + '?page=intl&' + \\\n",
    "                str(foreign_pages[i]).split('?')[1] for i in range(len(foreign_pages))]"
   ]
  },
  {
   "cell_type": "markdown",
   "metadata": {},
   "source": [
    "####Having pickled the file already on the first pass, I will just use that file going forward to avoid hitting the servers."
   ]
  },
  {
   "cell_type": "code",
   "execution_count": 20,
   "metadata": {
    "collapsed": false
   },
   "outputs": [],
   "source": [
    "foreign_url_pages = eat_pickles('foreign_url_pages.pkl')"
   ]
  },
  {
   "cell_type": "markdown",
   "metadata": {},
   "source": [
    "We have filtered down to 7,529 movies that have some kind of foreign movie revenue"
   ]
  },
  {
   "cell_type": "code",
   "execution_count": 21,
   "metadata": {
    "collapsed": false
   },
   "outputs": [
    {
     "data": {
      "text/plain": [
       "7529"
      ]
     },
     "execution_count": 21,
     "metadata": {},
     "output_type": "execute_result"
    }
   ],
   "source": [
    "len(foreign_url_pages)"
   ]
  },
  {
   "cell_type": "markdown",
   "metadata": {},
   "source": [
    "### Foreign Gross for U.K."
   ]
  },
  {
   "cell_type": "markdown",
   "metadata": {},
   "source": [
    "#### Loop through pages that have foreign box office revenue and build a list of dictionaries with keys as countries and values as gross."
   ]
  },
  {
   "cell_type": "code",
   "execution_count": 23,
   "metadata": {
    "collapsed": true
   },
   "outputs": [],
   "source": [
    "foreign_movie_data = []\n",
    "\n",
    "for url, html in foreign_url_pages.iteritems():\n",
    "    soup = build_soup_page(page=html)\n",
    "    foreign_movie_country = []\n",
    "    foreign_country_gross = []\n",
    "    for a in soup.find_all('a', href=True):\n",
    "        if a['href'].startswith('/movies/?page=intl&country'):\n",
    "            table = a.find_parent('tr')\n",
    "            foreign_movie_country.append(str(table.contents[0].text))\n",
    "            try:\n",
    "                foreign_country_gross.append(int(''.join(table.contents[10].text.replace('$', '').split(','))))\n",
    "            except:\n",
    "                continue\n",
    "    foreign_movie_data.append(dict(zip(foreign_movie_country, foreign_country_gross))) "
   ]
  },
  {
   "cell_type": "markdown",
   "metadata": {},
   "source": [
    "#### Build a dictionary with the foreign urls as keys and the values as a dictionary of movie country and gross"
   ]
  },
  {
   "cell_type": "code",
   "execution_count": 26,
   "metadata": {
    "collapsed": true
   },
   "outputs": [],
   "source": [
    "foreign_movie_dict = dict(zip(foreign_url_pages.keys(), foreign_movie_data))"
   ]
  },
  {
   "cell_type": "code",
   "execution_count": 274,
   "metadata": {
    "collapsed": false
   },
   "outputs": [
    {
     "data": {
      "text/plain": [
       "[('http://www.boxofficemojo.com/movies/?page=intl&id=sorcererandthewhitesnake.htm',\n",
       "  {'FOREIGN TOTAL': 2100000,\n",
       "   'Hong Kong': 408897,\n",
       "   'Malaysia': 1336639,\n",
       "   'New Zealand': 36404,\n",
       "   'Philippines': 163718,\n",
       "   'Singapore': 648229,\n",
       "   'Thailand': 376587}),\n",
       " ('http://www.boxofficemojo.com/movies/?page=intl&id=rec4.htm',\n",
       "  {'Argentina': 118689,\n",
       "   'Belgium': 116573,\n",
       "   'Ecuador': 970016,\n",
       "   'FOREIGN TOTAL': 208846,\n",
       "   'France': 686455,\n",
       "   'Peru': 182292,\n",
       "   'Poland': 158058,\n",
       "   'Russia - CIS': 1259390})]"
      ]
     },
     "execution_count": 274,
     "metadata": {},
     "output_type": "execute_result"
    }
   ],
   "source": [
    "foreign_movie_dict.items()[:2]"
   ]
  },
  {
   "cell_type": "markdown",
   "metadata": {},
   "source": [
    "#### Now we must build a dictionary with urls as keys and U.K. gross as values"
   ]
  },
  {
   "cell_type": "code",
   "execution_count": 35,
   "metadata": {
    "collapsed": false
   },
   "outputs": [],
   "source": [
    "for k, v in foreign_movie_dict.iteritems():\n",
    "    if len(v) == 1:\n",
    "        soup = build_soup_page(foreign_url_pages[k])\n",
    "        if soup.find(text = re.compile('United Kingdom')):\n",
    "            v['United Kingdom'] = v.pop('FOREIGN TOTAL')"
   ]
  },
  {
   "cell_type": "code",
   "execution_count": 36,
   "metadata": {
    "collapsed": false
   },
   "outputs": [],
   "source": [
    "uk_movie_gross = {}\n",
    "\n",
    "for k, v in foreign_movie_dict.iteritems():\n",
    "    if 'United Kingdom' in v.keys():\n",
    "        uk_movie_gross[k] =  v['United Kingdom']"
   ]
  },
  {
   "cell_type": "code",
   "execution_count": 37,
   "metadata": {
    "collapsed": false
   },
   "outputs": [
    {
     "data": {
      "text/plain": [
       "[('http://www.boxofficemojo.com/movies/?page=intl&id=xfiles2.htm', 4391760),\n",
       " ('http://www.boxofficemojo.com/movies/?page=intl&id=pacificrim.htm',\n",
       "  12785909),\n",
       " ('http://www.boxofficemojo.com/movies/?page=intl&id=deliverusfromevil.htm',\n",
       "  19002),\n",
       " ('http://www.boxofficemojo.com/movies/?page=intl&id=insidedeepthroat.htm',\n",
       "  17952),\n",
       " ('http://www.boxofficemojo.com/movies/?page=intl&id=beautyandthebeast3d.htm',\n",
       "  4594648)]"
      ]
     },
     "execution_count": 37,
     "metadata": {},
     "output_type": "execute_result"
    }
   ],
   "source": [
    "uk_movie_gross.items()[:5]"
   ]
  },
  {
   "cell_type": "markdown",
   "metadata": {},
   "source": [
    "### Wikipedia British Actors"
   ]
  },
  {
   "cell_type": "code",
   "execution_count": 38,
   "metadata": {
    "collapsed": false
   },
   "outputs": [],
   "source": [
    "brit_actors = build_soup_page(url='http://en.wikipedia.org/wiki/List_of_British_actors_and_actresses', use_url=True)"
   ]
  },
  {
   "cell_type": "markdown",
   "metadata": {},
   "source": [
    "####After wikipedia has been scraped and a soup object has been created, I build a list of all actor's names.  Note:  some names had unicode lettering so I had to split those out and deal with them separately, otherwise I get an error."
   ]
  },
  {
   "cell_type": "code",
   "execution_count": 39,
   "metadata": {
    "collapsed": false
   },
   "outputs": [],
   "source": [
    "brit_actors_list = []\n",
    "unicode_list = []\n",
    "\n",
    "for a in brit_actors.find_all('a', href=True):\n",
    "    if a['href'].startswith('/wiki/'):\n",
    "        try:\n",
    "            brit_actors_list.append(str(a.text))\n",
    "        except:\n",
    "            unicode_list.append(a.text)"
   ]
  },
  {
   "cell_type": "markdown",
   "metadata": {},
   "source": [
    "####There were some extra information in the list not related to names; below I spliced the list to remove those non-names."
   ]
  },
  {
   "cell_type": "code",
   "execution_count": 44,
   "metadata": {
    "collapsed": false
   },
   "outputs": [],
   "source": [
    "brit_actors_list = brit_actors_list[11:-283]"
   ]
  },
  {
   "cell_type": "markdown",
   "metadata": {},
   "source": [
    "#### Here I appended some of the unicode error names"
   ]
  },
  {
   "cell_type": "code",
   "execution_count": 45,
   "metadata": {
    "collapsed": false
   },
   "outputs": [],
   "source": [
    "to_append = ['Chloe Annett', 'Noel Coward', 'Ciaran Hinds', 'Llyr Lfans', 'Zoe Lister', 'Sinead Moynihan' \\\n",
    "                       'Sian Phillips', 'Zoe Wanamaker']\n",
    "\n",
    "for name in to_append:\n",
    "    brit_actors_list.append(name)"
   ]
  },
  {
   "cell_type": "markdown",
   "metadata": {},
   "source": [
    "I end up with 1,074 British actor/actress names"
   ]
  },
  {
   "cell_type": "code",
   "execution_count": 46,
   "metadata": {
    "collapsed": false
   },
   "outputs": [
    {
     "data": {
      "text/plain": [
       "1074"
      ]
     },
     "execution_count": 46,
     "metadata": {},
     "output_type": "execute_result"
    }
   ],
   "source": [
    "len(brit_actors_list)"
   ]
  },
  {
   "cell_type": "code",
   "execution_count": 47,
   "metadata": {
    "collapsed": false
   },
   "outputs": [
    {
     "data": {
      "text/plain": [
       "['Amanda Abbington',\n",
       " 'Joss Ackland',\n",
       " 'Jenny Agutter',\n",
       " 'Caroline Aherne',\n",
       " 'Holly Aird']"
      ]
     },
     "execution_count": 47,
     "metadata": {},
     "output_type": "execute_result"
    }
   ],
   "source": [
    "brit_actors_list[:5]"
   ]
  },
  {
   "cell_type": "markdown",
   "metadata": {},
   "source": [
    "### Now it is time to build the data structure to house my movies' url, title, domestic total gross, release date, actor, and U.K. total gross for further analysis"
   ]
  },
  {
   "cell_type": "code",
   "execution_count": 48,
   "metadata": {
    "collapsed": false
   },
   "outputs": [],
   "source": [
    "uk_movie_gross = eat_pickles('uk_movie_gross_final.pkl')"
   ]
  },
  {
   "cell_type": "markdown",
   "metadata": {},
   "source": [
    "We are starting with 2,343 movies that have U.K. revenue."
   ]
  },
  {
   "cell_type": "code",
   "execution_count": 56,
   "metadata": {
    "collapsed": false
   },
   "outputs": [
    {
     "data": {
      "text/plain": [
       "2343"
      ]
     },
     "execution_count": 56,
     "metadata": {},
     "output_type": "execute_result"
    }
   ],
   "source": [
    "len(uk_movie_gross)"
   ]
  },
  {
   "cell_type": "markdown",
   "metadata": {},
   "source": [
    "####To start, I look through my uk_movie_gross dictionary, and with the foreign page url key, I compile the main movie page url, and use that to index into the full url dictionary that contains the main page html.  Once I have the main movie page html, I create lists of all my attributes with functions used to search for what I want."
   ]
  },
  {
   "cell_type": "code",
   "execution_count": 107,
   "metadata": {
    "collapsed": false
   },
   "outputs": [],
   "source": [
    "title = []\n",
    "domestic_total_gross = []\n",
    "release_date = []\n",
    "budget = []\n",
    "genre = []\n",
    "uk_total_gross = []\n",
    "BOM_url = []\n",
    "actor_list = []\n",
    "\n",
    "for url in uk_movie_gross.iterkeys():\n",
    "    main_page = url[:37] + url[47:]\n",
    "    main_html = jar_of_pickles[main_page]\n",
    "    soup = build_soup_page(page=main_html)\n",
    "    #Title\n",
    "    title.append(get_movie_title(soup))\n",
    "    #Domestic Total gross\n",
    "    domestic_total_gross.append(get_movie_gross(soup))\n",
    "    #Release Date\n",
    "    release_date.append(get_movie_release_date(soup))\n",
    "    #U.K. Total Gross\n",
    "    uk_total_gross.append(uk_movie_gross[url])\n",
    "    #Box office mojo URL\n",
    "    BOM_url.append(main_page)\n",
    "    #Actor lists\n",
    "    actor_list.append(get_movie_actors(soup))\n",
    "    #Genre\n",
    "    genre.append(get_movie_genre(soup))\n",
    "    #Budget\n",
    "    budget.append(get_movie_budget(soup))"
   ]
  },
  {
   "cell_type": "markdown",
   "metadata": {},
   "source": [
    "####Below, I combine all the data into a list of tuples for each movie"
   ]
  },
  {
   "cell_type": "code",
   "execution_count": 120,
   "metadata": {
    "collapsed": true
   },
   "outputs": [],
   "source": [
    "movie_data = zip(BOM_url, title, domestic_total_gross, release_date, budget, uk_total_gross, actor_list, genre)"
   ]
  },
  {
   "cell_type": "code",
   "execution_count": 121,
   "metadata": {
    "collapsed": false,
    "scrolled": false
   },
   "outputs": [
    {
     "data": {
      "text/plain": [
       "[('http://www.boxofficemojo.com/movies/?id=xfiles2.htm',\n",
       "  'The X-Files: I Want to Believe',\n",
       "  20982478,\n",
       "  datetime.date(2008, 7, 25),\n",
       "  30000000,\n",
       "  4391760,\n",
       "  ['Amanda Peet', 'David Duchovny', 'Gillian Anderson'],\n",
       "  'Sci-Fi Thriller'),\n",
       " ('http://www.boxofficemojo.com/movies/?id=pacificrim.htm',\n",
       "  'Pacific Rim',\n",
       "  101802906,\n",
       "  datetime.date(2013, 7, 12),\n",
       "  190000000,\n",
       "  12785909,\n",
       "  ['Charlie Day',\n",
       "   'Rinko Kikuchi',\n",
       "   'Idris Elba',\n",
       "   'Ron Perlman',\n",
       "   'Charlie Hunnam'],\n",
       "  'Sci-Fi Action')]"
      ]
     },
     "execution_count": 121,
     "metadata": {},
     "output_type": "execute_result"
    }
   ],
   "source": [
    "movie_data[:2]"
   ]
  },
  {
   "cell_type": "markdown",
   "metadata": {},
   "source": [
    "Convert each movie data tuple to a list to make it easier to work with"
   ]
  },
  {
   "cell_type": "code",
   "execution_count": 122,
   "metadata": {
    "collapsed": false
   },
   "outputs": [],
   "source": [
    "movie_data = [list(movie) for movie in movie_data]"
   ]
  },
  {
   "cell_type": "markdown",
   "metadata": {},
   "source": [
    "####Since there are so many different genres, I have to cut the list down to a more general, clean set."
   ]
  },
  {
   "cell_type": "code",
   "execution_count": 123,
   "metadata": {
    "collapsed": false
   },
   "outputs": [],
   "source": [
    "for movie in movie_data:\n",
    "    if movie[-1].startswith('Action'):\n",
    "        movie[-1] = 'Action'\n",
    "    elif movie[-1].startswith('Adventure'):\n",
    "        movie[-1] = 'Adventure'\n",
    "    elif movie[-1].startswith('Animation'):\n",
    "        movie[-1] = 'Animation'\n",
    "    elif movie[-1].startswith('Comedy'):\n",
    "        movie[-1] = 'Comedy'\n",
    "    elif movie[-1].startswith('Concert'):\n",
    "        movie[-1] = 'Concert'\n",
    "    elif movie[-1].startswith('Crime'):\n",
    "        try:\n",
    "            split_g = movie[-1].split(' ')\n",
    "            movie[-1] = split_g[0].strip()\n",
    "        except:\n",
    "            movie[-1] = 'Crime'\n",
    "    elif movie[-1].startswith('Documentary'):\n",
    "        movie[-1] = 'Documentary'\n",
    "    elif movie[-1].startswith('Drama'):\n",
    "        movie[-1] = 'Drama'\n",
    "    elif movie[-1].startswith('Family'):\n",
    "        try:\n",
    "            split_g = movie[-1].split(' ')\n",
    "            movie[-1] = split_g[0].strip()\n",
    "        except:\n",
    "            movie[-1] = 'Family'\n",
    "    elif movie[-1].startswith('Fantasy'):\n",
    "        try:\n",
    "            split_g = movie[-1].split(' ')\n",
    "            movie[-1] = split_g[0].strip()\n",
    "        except:\n",
    "            movie[-1] = 'Fantasy'\n",
    "    elif movie[-1].startswith('Foreign'):\n",
    "        try:\n",
    "            split_g = movie[-1].split('/')\n",
    "            movie[-1] = split_g[0].strip()\n",
    "        except:\n",
    "            movie[-1] = 'Foreign'\n",
    "    elif movie[-1].startswith('Historical'):\n",
    "        try:\n",
    "            split_g = movie[-1].split(' ')\n",
    "            movie[-1] = split_g[0].strip()\n",
    "        except:\n",
    "            movie[-1] = 'Epic'\n",
    "    elif movie[-1].startswith('Horror'):\n",
    "        movie[-1] = 'Horror'\n",
    "    elif movie[-1].startswith('IMAX'):\n",
    "        movie[-1] = 'IMAX'\n",
    "    elif movie[-1].startswith('Music'):\n",
    "        try:\n",
    "            split_g = movie[-1].split(' ')\n",
    "            movie[-1] = split_g[0].strip()\n",
    "        except:\n",
    "            movie[-1] = 'Drama'\n",
    "    elif movie[-1].startswith('Musical'):\n",
    "        movie[-1] = 'Musical'\n",
    "    elif movie[-1].startswith('Period'):\n",
    "        try:\n",
    "            split_g = movie[-1].split(' ')\n",
    "            movie[-1] = split_g[0].strip()\n",
    "        except:\n",
    "            movie[-1] = 'Period'\n",
    "    elif movie[-1].startswith('Romance'):\n",
    "        movie[-1] = 'Romance'\n",
    "    elif movie[-1].startswith('Romantic'):\n",
    "        try:\n",
    "            split_g = movie[-1].split(' ')\n",
    "            movie[-1] = split_g[0].strip()\n",
    "        except:\n",
    "            movie[-1] = 'Romance'\n",
    "    elif movie[-1].startswith('Sci-Fi'):\n",
    "        try:\n",
    "            split_g = movie[-1].split(' ')\n",
    "            movie[-1] = split_g[0].strip()\n",
    "        except:\n",
    "            movie[-1] = 'Sci-Fi'\n",
    "    elif movie[-1].startswith('Sports'):\n",
    "        try:\n",
    "            split_g = movie[-1].split(' ')\n",
    "            movie[-1] = split_g[0].strip()\n",
    "        except:\n",
    "            movie[-1] = 'Sports'\n",
    "    elif movie[-1].startswith('Thriller'):\n",
    "        movie[-1] = 'Thriller'\n",
    "    elif movie[-1].startswith('Unknown'):\n",
    "        movie[-1] = 'Unknown'\n",
    "    elif movie[-1].startswith('War'):\n",
    "        try:\n",
    "            split_g = movie[-1].split(' ')\n",
    "            movie[-1] = split_g[0].strip()\n",
    "        except:\n",
    "            movie[-1] = 'War'\n",
    "    elif movie[-1].startswith('Western'):\n",
    "        try:\n",
    "            split_g = movie[-1].split(' ')\n",
    "            movie[-1] = split_g[0].strip()\n",
    "        except:\n",
    "            movie[-1] = 'Western'"
   ]
  },
  {
   "cell_type": "code",
   "execution_count": 130,
   "metadata": {
    "collapsed": false
   },
   "outputs": [
    {
     "data": {
      "text/plain": [
       "[['http://www.boxofficemojo.com/movies/?id=xfiles2.htm',\n",
       "  'The X-Files: I Want to Believe',\n",
       "  20982478,\n",
       "  datetime.date(2008, 7, 25),\n",
       "  30000000,\n",
       "  4391760,\n",
       "  ['Amanda Peet', 'David Duchovny', 'Gillian Anderson'],\n",
       "  'Sci-Fi'],\n",
       " ['http://www.boxofficemojo.com/movies/?id=pacificrim.htm',\n",
       "  'Pacific Rim',\n",
       "  101802906,\n",
       "  datetime.date(2013, 7, 12),\n",
       "  190000000,\n",
       "  12785909,\n",
       "  ['Charlie Day',\n",
       "   'Rinko Kikuchi',\n",
       "   'Idris Elba',\n",
       "   'Ron Perlman',\n",
       "   'Charlie Hunnam'],\n",
       "  'Sci-Fi']]"
      ]
     },
     "execution_count": 130,
     "metadata": {},
     "output_type": "execute_result"
    }
   ],
   "source": [
    "movie_data[:2]"
   ]
  },
  {
   "cell_type": "markdown",
   "metadata": {},
   "source": [
    "###Now I want to try to add as much more additional data that I may be missing.  For example, there are movies that don't have actors listed in them; also I want to add the country associated with the movie as I only want U.S. movies."
   ]
  },
  {
   "cell_type": "markdown",
   "metadata": {},
   "source": [
    "####I start by looping through the actor list to find the index of movies that don't have a list of actors; then I index into the title list to find the titles I will need to scrape on "
   ]
  },
  {
   "cell_type": "code",
   "execution_count": 63,
   "metadata": {
    "collapsed": false
   },
   "outputs": [],
   "source": [
    "titles_to_scrape = [title[i] for i, actors in enumerate(actor_list) if len(actors) == 0]"
   ]
  },
  {
   "cell_type": "markdown",
   "metadata": {},
   "source": [
    "I have 466 movies that don't contain any actor information"
   ]
  },
  {
   "cell_type": "code",
   "execution_count": 65,
   "metadata": {
    "collapsed": false
   },
   "outputs": [
    {
     "data": {
      "text/plain": [
       "466"
      ]
     },
     "execution_count": 65,
     "metadata": {},
     "output_type": "execute_result"
    }
   ],
   "source": [
    "len(titles_to_scrape)"
   ]
  },
  {
   "cell_type": "code",
   "execution_count": 67,
   "metadata": {
    "collapsed": false
   },
   "outputs": [
    {
     "data": {
      "text/plain": [
       "['Deliver Us from Evil',\n",
       " 'Inside Deep Throat',\n",
       " 'Beauty and the Beast',\n",
       " 'Ong Bak: The Thai Warrior',\n",
       " 'American Teen']"
      ]
     },
     "execution_count": 67,
     "metadata": {},
     "output_type": "execute_result"
    }
   ],
   "source": [
    "titles_to_scrape[:5]"
   ]
  },
  {
   "cell_type": "markdown",
   "metadata": {},
   "source": [
    "####Now it is time to loop through list of movies and gather titles to get country info"
   ]
  },
  {
   "cell_type": "code",
   "execution_count": 72,
   "metadata": {
    "collapsed": true
   },
   "outputs": [],
   "source": [
    "country_titles = [el[1] for el in movie_data]"
   ]
  },
  {
   "cell_type": "code",
   "execution_count": 73,
   "metadata": {
    "collapsed": false
   },
   "outputs": [
    {
     "data": {
      "text/plain": [
       "['The X-Files: I Want to Believe',\n",
       " 'Pacific Rim',\n",
       " 'Deliver Us from Evil',\n",
       " 'Inside Deep Throat',\n",
       " 'Beauty and the Beast']"
      ]
     },
     "execution_count": 73,
     "metadata": {},
     "output_type": "execute_result"
    }
   ],
   "source": [
    "country_titles[:5]"
   ]
  },
  {
   "cell_type": "markdown",
   "metadata": {},
   "source": [
    "####In order to try to locate this additonal information, I will connect to the OMDB API which has a vast amount of movie data and may contain what I am looking for.  I do a call for actors and countries separately."
   ]
  },
  {
   "cell_type": "code",
   "execution_count": 132,
   "metadata": {
    "collapsed": false
   },
   "outputs": [],
   "source": [
    "new_actor_list = []\n",
    "#country_list = []\n",
    "\n",
    "\n",
    "for movie_title in titles_to_scrape:# titles_to_scrape instead of country_titles for actors\n",
    "    title = movie_title.replace(\" \", \"+\")\n",
    "    base_url = 'http://www.omdbapi.com/?t='\n",
    "    url_4 = base_url + title + '&y=&plot=short&r=json'\n",
    "    \n",
    "    try:\n",
    "        page_4 = urllib2.urlopen(url_4).read()\n",
    "        json_data = json.loads(page_4) # converts API json response to dict\n",
    "        actors = json_data['Actors']\n",
    "        actors = actors.split(',')\n",
    "        try:\n",
    "            new_actor_list.append([str(actor).strip() for actor in actors]) # trys to convert the name to a string\n",
    "        except:\n",
    "            new_actor_list.append([actor for actor in actors]) # otherwise it is unicode and I take it as it is\n",
    "        #country = json_data['Country']\n",
    "        #countries = country.split(',')\n",
    "        #country_list.append([str(country).strip() for country in countries])\n",
    "    except:\n",
    "        new_actor_list.append([])\n",
    "        #country_list.append([])"
   ]
  },
  {
   "cell_type": "code",
   "execution_count": 133,
   "metadata": {
    "collapsed": false
   },
   "outputs": [
    {
     "data": {
      "text/plain": [
       "[[u'Eric Bana', u' \\xc9dgar Ram\\xedrez', u' Olivia Munn', u' Chris Coy'],\n",
       " ['Dennis Hopper', 'Gerard Damiano', 'John Waters', 'Larry Flynt'],\n",
       " [\"Paige O'Hara\", 'Robby Benson', 'Richard White', 'Jerry Orbach'],\n",
       " [],\n",
       " ['Jake Tusing', 'Megan Krizmanich', 'Colin Clemens', 'Mitch Reinholt']]"
      ]
     },
     "execution_count": 133,
     "metadata": {},
     "output_type": "execute_result"
    }
   ],
   "source": [
    "new_actor_list[:5]"
   ]
  },
  {
   "cell_type": "code",
   "execution_count": 81,
   "metadata": {
    "collapsed": false
   },
   "outputs": [
    {
     "data": {
      "text/plain": [
       "[['USA', 'Canada'], ['USA'], ['USA'], ['USA'], ['USA']]"
      ]
     },
     "execution_count": 81,
     "metadata": {},
     "output_type": "execute_result"
    }
   ],
   "source": [
    "country_list[:5]"
   ]
  },
  {
   "cell_type": "markdown",
   "metadata": {},
   "source": [
    "#### Unpack country and movie title and append to the movie data"
   ]
  },
  {
   "cell_type": "code",
   "execution_count": 134,
   "metadata": {
    "collapsed": true
   },
   "outputs": [],
   "source": [
    "add_country_to_movie_data = zip(country_titles, country_list)\n",
    "\n",
    "for el in add_country_to_movie_data:\n",
    "    for movie in movie_data:\n",
    "        if el[0] in movie:\n",
    "            movie.append(el[1])"
   ]
  },
  {
   "cell_type": "markdown",
   "metadata": {},
   "source": [
    "####Unpack the title and actors, then loops through the movie data and extends the actors to the empty list"
   ]
  },
  {
   "cell_type": "code",
   "execution_count": 136,
   "metadata": {
    "collapsed": false
   },
   "outputs": [],
   "source": [
    "add_actors_to_movie_data = zip(titles_to_scrape, new_actor_list)\n",
    "\n",
    "for el in add_actors_to_movie_data:\n",
    "    for movie in movie_data:\n",
    "        if el[0] in movie and len(movie[6]) == 0:\n",
    "            movie[6].extend(el[1])"
   ]
  },
  {
   "cell_type": "markdown",
   "metadata": {},
   "source": [
    "####Loops through movie data and appends a 1 or 0 depending on if there is a british actor/actress in the movie"
   ]
  },
  {
   "cell_type": "code",
   "execution_count": 137,
   "metadata": {
    "collapsed": false
   },
   "outputs": [],
   "source": [
    "for movie in movie_data:\n",
    "    if len(movie[6]) > 1:\n",
    "        for actor in movie[6]:\n",
    "            if actor in brit_actors_list:\n",
    "                movie.append(1)\n",
    "                break\n",
    "        if movie[-1] not in [0,1]:\n",
    "            movie.append(0)\n",
    "    else:\n",
    "        movie.append(0)"
   ]
  },
  {
   "cell_type": "code",
   "execution_count": 139,
   "metadata": {
    "collapsed": false
   },
   "outputs": [
    {
     "data": {
      "text/plain": [
       "[['http://www.boxofficemojo.com/movies/?id=xfiles2.htm',\n",
       "  'The X-Files: I Want to Believe',\n",
       "  20982478,\n",
       "  datetime.date(2008, 7, 25),\n",
       "  30000000,\n",
       "  4391760,\n",
       "  ['Amanda Peet', 'David Duchovny', 'Gillian Anderson'],\n",
       "  'Sci-Fi',\n",
       "  ['USA', 'Canada'],\n",
       "  0],\n",
       " ['http://www.boxofficemojo.com/movies/?id=pacificrim.htm',\n",
       "  'Pacific Rim',\n",
       "  101802906,\n",
       "  datetime.date(2013, 7, 12),\n",
       "  190000000,\n",
       "  12785909,\n",
       "  ['Charlie Day',\n",
       "   'Rinko Kikuchi',\n",
       "   'Idris Elba',\n",
       "   'Ron Perlman',\n",
       "   'Charlie Hunnam'],\n",
       "  'Sci-Fi',\n",
       "  ['USA'],\n",
       "  1],\n",
       " ['http://www.boxofficemojo.com/movies/?id=deliverusfromevil.htm',\n",
       "  'Deliver Us from Evil',\n",
       "  201275,\n",
       "  datetime.date(2006, 10, 13),\n",
       "  None,\n",
       "  19002,\n",
       "  [u'Eric Bana', u' \\xc9dgar Ram\\xedrez', u' Olivia Munn', u' Chris Coy'],\n",
       "  'Documentary',\n",
       "  ['USA'],\n",
       "  0]]"
      ]
     },
     "execution_count": 139,
     "metadata": {},
     "output_type": "execute_result"
    }
   ],
   "source": [
    "movie_data[:3]"
   ]
  },
  {
   "cell_type": "markdown",
   "metadata": {},
   "source": [
    "### I write my data structre to a csv below so I can have a copy and work with it in pandas"
   ]
  },
  {
   "cell_type": "code",
   "execution_count": 7,
   "metadata": {
    "collapsed": false
   },
   "outputs": [],
   "source": [
    "#with open('movie_data.csv', 'w') as csvfile:\n",
    "#    csvwriter = csv.writer(csvfile)\n",
    "\n",
    "#    i = 0\n",
    "#    for movie in sorted(movie_data):\n",
    "#        csvwriter.writerow(movie)\n",
    "#        print 'row %i written' % i\n",
    "#        i += 1\n",
    "#    print 'success'"
   ]
  },
  {
   "cell_type": "markdown",
   "metadata": {},
   "source": [
    "###Read the csv movie data into pandas"
   ]
  },
  {
   "cell_type": "code",
   "execution_count": 235,
   "metadata": {
    "collapsed": false
   },
   "outputs": [],
   "source": [
    "movie_df = pd.read_csv('movie_data.csv', usecols=[1,2,4,5,6,7,8,9])"
   ]
  },
  {
   "cell_type": "code",
   "execution_count": 236,
   "metadata": {
    "collapsed": false,
    "scrolled": true
   },
   "outputs": [
    {
     "data": {
      "text/html": [
       "<div style=\"max-height:1000px;max-width:1500px;overflow:auto;\">\n",
       "<table border=\"1\" class=\"dataframe\">\n",
       "  <thead>\n",
       "    <tr style=\"text-align: right;\">\n",
       "      <th></th>\n",
       "      <th>Title</th>\n",
       "      <th>Domestic_Total_Gross</th>\n",
       "      <th>Budget</th>\n",
       "      <th>UK_Total_Gross</th>\n",
       "      <th>Actors</th>\n",
       "      <th>Genre</th>\n",
       "      <th>Country</th>\n",
       "      <th>British</th>\n",
       "    </tr>\n",
       "  </thead>\n",
       "  <tbody>\n",
       "    <tr>\n",
       "      <th>0</th>\n",
       "      <td>10,000 B.C.</td>\n",
       "      <td>94784201</td>\n",
       "      <td>105000000</td>\n",
       "      <td>11349484</td>\n",
       "      <td>['N/A']</td>\n",
       "      <td>Adventure</td>\n",
       "      <td>['USA']</td>\n",
       "      <td>0</td>\n",
       "    </tr>\n",
       "    <tr>\n",
       "      <th>1</th>\n",
       "      <td>After Earth</td>\n",
       "      <td>60522097</td>\n",
       "      <td>130000000</td>\n",
       "      <td>9737192</td>\n",
       "      <td>['Jaden Smith', 'Will Smith']</td>\n",
       "      <td>Sci-Fi</td>\n",
       "      <td>['USA']</td>\n",
       "      <td>0</td>\n",
       "    </tr>\n",
       "    <tr>\n",
       "      <th>2</th>\n",
       "      <td>The Hundred-Foot Journey</td>\n",
       "      <td>54240821</td>\n",
       "      <td>22000000</td>\n",
       "      <td>4364114</td>\n",
       "      <td>['Helen Mirren', 'Charlotte LeBon']</td>\n",
       "      <td>Drama</td>\n",
       "      <td>['India', 'United Arab Emirates', 'USA']</td>\n",
       "      <td>1</td>\n",
       "    </tr>\n",
       "    <tr>\n",
       "      <th>3</th>\n",
       "      <td>The 11th Hour</td>\n",
       "      <td>707343</td>\n",
       "      <td>NaN</td>\n",
       "      <td>2457</td>\n",
       "      <td>['(Narrator)', 'Leonardo DiCaprio*']</td>\n",
       "      <td>Documentary</td>\n",
       "      <td>['USA']</td>\n",
       "      <td>0</td>\n",
       "    </tr>\n",
       "    <tr>\n",
       "      <th>4</th>\n",
       "      <td>127 Hours</td>\n",
       "      <td>18335230</td>\n",
       "      <td>18000000</td>\n",
       "      <td>12513887</td>\n",
       "      <td>['Clemence Posey', 'James Franco', 'Treat Will...</td>\n",
       "      <td>Drama</td>\n",
       "      <td>['USA', 'UK']</td>\n",
       "      <td>0</td>\n",
       "    </tr>\n",
       "  </tbody>\n",
       "</table>\n",
       "</div>"
      ],
      "text/plain": [
       "                      Title  Domestic_Total_Gross     Budget  UK_Total_Gross  \\\n",
       "0               10,000 B.C.              94784201  105000000        11349484   \n",
       "1               After Earth              60522097  130000000         9737192   \n",
       "2  The Hundred-Foot Journey              54240821   22000000         4364114   \n",
       "3             The 11th Hour                707343        NaN            2457   \n",
       "4                 127 Hours              18335230   18000000        12513887   \n",
       "\n",
       "                                              Actors        Genre  \\\n",
       "0                                            ['N/A']    Adventure   \n",
       "1                      ['Jaden Smith', 'Will Smith']       Sci-Fi   \n",
       "2                ['Helen Mirren', 'Charlotte LeBon']        Drama   \n",
       "3               ['(Narrator)', 'Leonardo DiCaprio*']  Documentary   \n",
       "4  ['Clemence Posey', 'James Franco', 'Treat Will...        Drama   \n",
       "\n",
       "                                    Country British  \n",
       "0                                   ['USA']       0  \n",
       "1                                   ['USA']       0  \n",
       "2  ['India', 'United Arab Emirates', 'USA']       1  \n",
       "3                                   ['USA']       0  \n",
       "4                             ['USA', 'UK']       0  "
      ]
     },
     "execution_count": 236,
     "metadata": {},
     "output_type": "execute_result"
    }
   ],
   "source": [
    "movie_df.head()"
   ]
  },
  {
   "cell_type": "markdown",
   "metadata": {},
   "source": [
    "Started with 2,343 movies"
   ]
  },
  {
   "cell_type": "code",
   "execution_count": 237,
   "metadata": {
    "collapsed": false
   },
   "outputs": [
    {
     "data": {
      "text/plain": [
       "2343"
      ]
     },
     "execution_count": 237,
     "metadata": {},
     "output_type": "execute_result"
    }
   ],
   "source": [
    "len(movie_df)"
   ]
  },
  {
   "cell_type": "code",
   "execution_count": 238,
   "metadata": {
    "collapsed": false
   },
   "outputs": [],
   "source": [
    "# Get started on some clean up work on the dataframe\n",
    "movie_df.replace(\"['N/A']\", np.nan, inplace=True)\n",
    "# Drop NaN rows\n",
    "movie_df.dropna(inplace=True)\n",
    "# Only keep movies that have USA in the country\n",
    "movie_df = movie_df[['USA' in country for country in movie_df.Country.values]]"
   ]
  },
  {
   "cell_type": "code",
   "execution_count": 239,
   "metadata": {
    "collapsed": false,
    "scrolled": true
   },
   "outputs": [
    {
     "data": {
      "text/html": [
       "<div style=\"max-height:1000px;max-width:1500px;overflow:auto;\">\n",
       "<table border=\"1\" class=\"dataframe\">\n",
       "  <thead>\n",
       "    <tr style=\"text-align: right;\">\n",
       "      <th></th>\n",
       "      <th>Title</th>\n",
       "      <th>Domestic_Total_Gross</th>\n",
       "      <th>Budget</th>\n",
       "      <th>UK_Total_Gross</th>\n",
       "      <th>Actors</th>\n",
       "      <th>Genre</th>\n",
       "      <th>Country</th>\n",
       "      <th>British</th>\n",
       "    </tr>\n",
       "  </thead>\n",
       "  <tbody>\n",
       "    <tr>\n",
       "      <th>1</th>\n",
       "      <td>After Earth</td>\n",
       "      <td>60522097</td>\n",
       "      <td>130000000</td>\n",
       "      <td>9737192</td>\n",
       "      <td>['Jaden Smith', 'Will Smith']</td>\n",
       "      <td>Sci-Fi</td>\n",
       "      <td>['USA']</td>\n",
       "      <td>0</td>\n",
       "    </tr>\n",
       "    <tr>\n",
       "      <th>2</th>\n",
       "      <td>The Hundred-Foot Journey</td>\n",
       "      <td>54240821</td>\n",
       "      <td>22000000</td>\n",
       "      <td>4364114</td>\n",
       "      <td>['Helen Mirren', 'Charlotte LeBon']</td>\n",
       "      <td>Drama</td>\n",
       "      <td>['India', 'United Arab Emirates', 'USA']</td>\n",
       "      <td>1</td>\n",
       "    </tr>\n",
       "    <tr>\n",
       "      <th>4</th>\n",
       "      <td>127 Hours</td>\n",
       "      <td>18335230</td>\n",
       "      <td>18000000</td>\n",
       "      <td>12513887</td>\n",
       "      <td>['Clemence Posey', 'James Franco', 'Treat Will...</td>\n",
       "      <td>Drama</td>\n",
       "      <td>['USA', 'UK']</td>\n",
       "      <td>0</td>\n",
       "    </tr>\n",
       "    <tr>\n",
       "      <th>5</th>\n",
       "      <td>13 Going on 30</td>\n",
       "      <td>57231747</td>\n",
       "      <td>37000000</td>\n",
       "      <td>9346533</td>\n",
       "      <td>['Mark Ruffalo', 'Jennifer Garner']</td>\n",
       "      <td>Comedy</td>\n",
       "      <td>['USA']</td>\n",
       "      <td>0</td>\n",
       "    </tr>\n",
       "    <tr>\n",
       "      <th>6</th>\n",
       "      <td>1408</td>\n",
       "      <td>71985628</td>\n",
       "      <td>25000000</td>\n",
       "      <td>6482080</td>\n",
       "      <td>['John Cusack', 'Samuel L. Jackson', 'Tony Sha...</td>\n",
       "      <td>Horror</td>\n",
       "      <td>['USA']</td>\n",
       "      <td>0</td>\n",
       "    </tr>\n",
       "  </tbody>\n",
       "</table>\n",
       "</div>"
      ],
      "text/plain": [
       "                      Title  Domestic_Total_Gross     Budget  UK_Total_Gross  \\\n",
       "1               After Earth              60522097  130000000         9737192   \n",
       "2  The Hundred-Foot Journey              54240821   22000000         4364114   \n",
       "4                 127 Hours              18335230   18000000        12513887   \n",
       "5            13 Going on 30              57231747   37000000         9346533   \n",
       "6                      1408              71985628   25000000         6482080   \n",
       "\n",
       "                                              Actors   Genre  \\\n",
       "1                      ['Jaden Smith', 'Will Smith']  Sci-Fi   \n",
       "2                ['Helen Mirren', 'Charlotte LeBon']   Drama   \n",
       "4  ['Clemence Posey', 'James Franco', 'Treat Will...   Drama   \n",
       "5                ['Mark Ruffalo', 'Jennifer Garner']  Comedy   \n",
       "6  ['John Cusack', 'Samuel L. Jackson', 'Tony Sha...  Horror   \n",
       "\n",
       "                                    Country British  \n",
       "1                                   ['USA']       0  \n",
       "2  ['India', 'United Arab Emirates', 'USA']       1  \n",
       "4                             ['USA', 'UK']       0  \n",
       "5                                   ['USA']       0  \n",
       "6                                   ['USA']       0  "
      ]
     },
     "execution_count": 239,
     "metadata": {},
     "output_type": "execute_result"
    }
   ],
   "source": [
    "movie_df.head()"
   ]
  },
  {
   "cell_type": "markdown",
   "metadata": {},
   "source": [
    "End up with 1,238 movies to work with"
   ]
  },
  {
   "cell_type": "code",
   "execution_count": 240,
   "metadata": {
    "collapsed": false
   },
   "outputs": [
    {
     "data": {
      "text/plain": [
       "1238"
      ]
     },
     "execution_count": 240,
     "metadata": {},
     "output_type": "execute_result"
    }
   ],
   "source": [
    "len(movie_df)"
   ]
  },
  {
   "cell_type": "markdown",
   "metadata": {},
   "source": [
    "####Let's take a look at how the movies are dispersed as far as containing a British actor or not."
   ]
  },
  {
   "cell_type": "code",
   "execution_count": 241,
   "metadata": {
    "collapsed": false
   },
   "outputs": [
    {
     "data": {
      "text/plain": [
       "<matplotlib.axes._subplots.AxesSubplot at 0x1304342d0>"
      ]
     },
     "execution_count": 241,
     "metadata": {},
     "output_type": "execute_result"
    },
    {
     "data": {
      "image/png": "[encoded data removed]",
      "text/plain": [
       "<matplotlib.figure.Figure at 0x13032ad90>"
      ]
     },
     "metadata": {},
     "output_type": "display_data"
    }
   ],
   "source": [
    "brit_df = pd.DataFrame(movie_df.British.value_counts().values, index=['No British', 'British'])\n",
    "brit_df.plot(kind='bar', rot=0, legend=False, title='Number of Movies With or Without a British Actor/Actress')"
   ]
  },
  {
   "cell_type": "markdown",
   "metadata": {},
   "source": [
    "As you can see, there's about 1.6 times as many movies that don't contain a British actor than those that do"
   ]
  },
  {
   "cell_type": "markdown",
   "metadata": {},
   "source": [
    "####It is time to use linear regression to model the potential effect on UK revenue of having a British actor in your movie.  For predictor variable, I will be using the budget of the movie and the genre along with the british 1 or 0.  But first, should any of these variables be transformed?"
   ]
  },
  {
   "cell_type": "code",
   "execution_count": 255,
   "metadata": {
    "collapsed": false
   },
   "outputs": [
    {
     "data": {
      "text/plain": [
       "<matplotlib.legend.Legend at 0x130511f90>"
      ]
     },
     "execution_count": 255,
     "metadata": {},
     "output_type": "execute_result"
    },
    {
     "data": {
      "image/png": "[encoded data removed]",
      "text/plain": [
       "<matplotlib.figure.Figure at 0x1306a5810>"
      ]
     },
     "metadata": {},
     "output_type": "display_data"
    },
    {
     "data": {
      "image/png": "[encoded data removed]",
      "text/plain": [
       "<matplotlib.figure.Figure at 0x1306b9cd0>"
      ]
     },
     "metadata": {},
     "output_type": "display_data"
    }
   ],
   "source": [
    "# Let's first run a simple model using only budget\n",
    "model_1 = smf.ols(\"UK_Total_Gross ~ Budget\", movie_df).fit()\n",
    "\n",
    "# Plots budget against gross and plots the line of best fit (predictions).\n",
    "plt.figure()\n",
    "plt.scatter(movie_df.Budget, movie_df.UK_Total_Gross, label='Observed')\n",
    "best_fit = model_1.params['Intercept'] + model_1.params['Budget'] * movie_df.Budget\n",
    "plt.plot(movie_df.Budget, best_fit, 'r', label='Fit')\n",
    "plt.xlabel('Budget')\n",
    "plt.ylabel('UK Total Gross')\n",
    "plt.title('Budget vs. UK Total Gross')\n",
    "plt.legend(loc='best')\n",
    "plt.xlim(0.0)\n",
    " \n",
    "plt.figure()\n",
    "plt.scatter(movie_df.Budget, model_1.resid, label='Residuals')\n",
    "plt.xlabel('Budget')\n",
    "plt.ylabel('Residuals')\n",
    "plt.title('Residuals vs. Budget')\n",
    "plt.legend(loc='best')"
   ]
  },
  {
   "cell_type": "markdown",
   "metadata": {},
   "source": [
    "It appears that there is a cone shape to the residuals of this model.  There is much more variation in the residuals as budget gets larger whereas it should be more normally distributed around 0.  In other words, the higher the budget gets, the less accurate our predictions are.  In order to control for this, we transform the budget to be the log of the budget and also take the log of the UK Total Gross."
   ]
  },
  {
   "cell_type": "markdown",
   "metadata": {},
   "source": [
    "###Now we run a linear model predicting log of the UK Total Gross using the covariates log of the budget, the genre and british"
   ]
  },
  {
   "cell_type": "code",
   "execution_count": 273,
   "metadata": {
    "collapsed": false
   },
   "outputs": [
    {
     "data": {
      "text/html": [
       "<table class=\"simpletable\">\n",
       "<caption>OLS Regression Results</caption>\n",
       "<tr>\n",
       "  <th>Dep. Variable:</th>    <td>np.log(UK_Total_Gross)</td> <th>  R-squared:         </th> <td>   0.296</td>\n",
       "</tr>\n",
       "<tr>\n",
       "  <th>Model:</th>                      <td>OLS</td>          <th>  Adj. R-squared:    </th> <td>   0.276</td>\n",
       "</tr>\n",
       "<tr>\n",
       "  <th>Method:</th>                <td>Least Squares</td>     <th>  F-statistic:       </th> <td>   14.85</td>\n",
       "</tr>\n",
       "<tr>\n",
       "  <th>Date:</th>                <td>Sat, 09 May 2015</td>    <th>  Prob (F-statistic):</th> <td>1.78e-69</td>\n",
       "</tr>\n",
       "<tr>\n",
       "  <th>Time:</th>                    <td>20:33:50</td>        <th>  Log-Likelihood:    </th> <td> -2360.1</td>\n",
       "</tr>\n",
       "<tr>\n",
       "  <th>No. Observations:</th>         <td>  1238</td>         <th>  AIC:               </th> <td>   4790.</td>\n",
       "</tr>\n",
       "<tr>\n",
       "  <th>Df Residuals:</th>             <td>  1203</td>         <th>  BIC:               </th> <td>   4969.</td>\n",
       "</tr>\n",
       "<tr>\n",
       "  <th>Df Model:</th>                 <td>    34</td>         <th>                     </th>     <td> </td>   \n",
       "</tr>\n",
       "<tr>\n",
       "  <th>Covariance Type:</th>         <td>nonrobust</td>       <th>                     </th>     <td> </td>   \n",
       "</tr>\n",
       "</table>\n",
       "<table class=\"simpletable\">\n",
       "<tr>\n",
       "                   <td></td>                      <th>coef</th>     <th>std err</th>      <th>t</th>      <th>P>|t|</th> <th>[95.0% Conf. Int.]</th> \n",
       "</tr>\n",
       "<tr>\n",
       "  <th>Intercept</th>                           <td>   -4.9405</td> <td>    2.710</td> <td>   -1.823</td> <td> 0.069</td> <td>  -10.257     0.376</td>\n",
       "</tr>\n",
       "<tr>\n",
       "  <th>Genre[T.Adventure]</th>                  <td>    1.4669</td> <td>    6.423</td> <td>    0.228</td> <td> 0.819</td> <td>  -11.134    14.068</td>\n",
       "</tr>\n",
       "<tr>\n",
       "  <th>Genre[T.Animation]</th>                  <td>    2.1417</td> <td>    6.151</td> <td>    0.348</td> <td> 0.728</td> <td>   -9.926    14.209</td>\n",
       "</tr>\n",
       "<tr>\n",
       "  <th>Genre[T.Comedy]</th>                     <td>    6.5543</td> <td>    3.341</td> <td>    1.962</td> <td> 0.050</td> <td>   -0.001    13.109</td>\n",
       "</tr>\n",
       "<tr>\n",
       "  <th>Genre[T.Concert]</th>                    <td> -342.0839</td> <td>  356.164</td> <td>   -0.960</td> <td> 0.337</td> <td>-1040.855   356.687</td>\n",
       "</tr>\n",
       "<tr>\n",
       "  <th>Genre[T.Crime]</th>                      <td>    0.6973</td> <td>   85.396</td> <td>    0.008</td> <td> 0.993</td> <td> -166.845   168.240</td>\n",
       "</tr>\n",
       "<tr>\n",
       "  <th>Genre[T.Documentary]</th>                <td>   15.5285</td> <td>    6.045</td> <td>    2.569</td> <td> 0.010</td> <td>    3.668    27.389</td>\n",
       "</tr>\n",
       "<tr>\n",
       "  <th>Genre[T.Drama]</th>                      <td>    7.8929</td> <td>    3.038</td> <td>    2.598</td> <td> 0.009</td> <td>    1.933    13.853</td>\n",
       "</tr>\n",
       "<tr>\n",
       "  <th>Genre[T.Epic]</th>                       <td>  -16.8090</td> <td>  147.250</td> <td>   -0.114</td> <td> 0.909</td> <td> -305.705   272.087</td>\n",
       "</tr>\n",
       "<tr>\n",
       "  <th>Genre[T.Family]</th>                     <td>    5.2529</td> <td>   29.702</td> <td>    0.177</td> <td> 0.860</td> <td>  -53.020    63.525</td>\n",
       "</tr>\n",
       "<tr>\n",
       "  <th>Genre[T.Fantasy]</th>                    <td>   -5.4470</td> <td>   12.238</td> <td>   -0.445</td> <td> 0.656</td> <td>  -29.456    18.562</td>\n",
       "</tr>\n",
       "<tr>\n",
       "  <th>Genre[T.Horror]</th>                     <td>   18.9327</td> <td>    3.085</td> <td>    6.138</td> <td> 0.000</td> <td>   12.881    24.984</td>\n",
       "</tr>\n",
       "<tr>\n",
       "  <th>Genre[T.Romance]</th>                    <td>   -3.3455</td> <td>    8.143</td> <td>   -0.411</td> <td> 0.681</td> <td>  -19.322    12.631</td>\n",
       "</tr>\n",
       "<tr>\n",
       "  <th>Genre[T.Sci-Fi]</th>                     <td>   10.1914</td> <td>    4.719</td> <td>    2.160</td> <td> 0.031</td> <td>    0.933    19.449</td>\n",
       "</tr>\n",
       "<tr>\n",
       "  <th>Genre[T.Thriller]</th>                   <td>   13.8829</td> <td>    4.742</td> <td>    2.928</td> <td> 0.003</td> <td>    4.579    23.187</td>\n",
       "</tr>\n",
       "<tr>\n",
       "  <th>Genre[T.War]</th>                        <td>   -9.2682</td> <td>   13.167</td> <td>   -0.704</td> <td> 0.482</td> <td>  -35.101    16.565</td>\n",
       "</tr>\n",
       "<tr>\n",
       "  <th>Genre[T.Western]</th>                    <td>    1.5917</td> <td>   11.756</td> <td>    0.135</td> <td> 0.892</td> <td>  -21.474    24.657</td>\n",
       "</tr>\n",
       "<tr>\n",
       "  <th>British[T.1]</th>                        <td>    0.3247</td> <td>    0.106</td> <td>    3.059</td> <td> 0.002</td> <td>    0.116     0.533</td>\n",
       "</tr>\n",
       "<tr>\n",
       "  <th>np.log(Budget)</th>                      <td>    1.1279</td> <td>    0.151</td> <td>    7.461</td> <td> 0.000</td> <td>    0.831     1.425</td>\n",
       "</tr>\n",
       "<tr>\n",
       "  <th>np.log(Budget):Genre[T.Adventure]</th>   <td>   -0.0666</td> <td>    0.353</td> <td>   -0.189</td> <td> 0.850</td> <td>   -0.758     0.625</td>\n",
       "</tr>\n",
       "<tr>\n",
       "  <th>np.log(Budget):Genre[T.Animation]</th>   <td>   -0.0781</td> <td>    0.337</td> <td>   -0.231</td> <td> 0.817</td> <td>   -0.740     0.584</td>\n",
       "</tr>\n",
       "<tr>\n",
       "  <th>np.log(Budget):Genre[T.Comedy]</th>      <td>   -0.3515</td> <td>    0.189</td> <td>   -1.860</td> <td> 0.063</td> <td>   -0.722     0.019</td>\n",
       "</tr>\n",
       "<tr>\n",
       "  <th>np.log(Budget):Genre[T.Concert]</th>     <td>   21.4154</td> <td>   22.169</td> <td>    0.966</td> <td> 0.334</td> <td>  -22.079    64.910</td>\n",
       "</tr>\n",
       "<tr>\n",
       "  <th>np.log(Budget):Genre[T.Crime]</th>       <td>    0.0109</td> <td>    4.813</td> <td>    0.002</td> <td> 0.998</td> <td>   -9.432     9.454</td>\n",
       "</tr>\n",
       "<tr>\n",
       "  <th>np.log(Budget):Genre[T.Documentary]</th> <td>   -0.9890</td> <td>    0.390</td> <td>   -2.534</td> <td> 0.011</td> <td>   -1.755    -0.223</td>\n",
       "</tr>\n",
       "<tr>\n",
       "  <th>np.log(Budget):Genre[T.Drama]</th>       <td>   -0.4825</td> <td>    0.171</td> <td>   -2.815</td> <td> 0.005</td> <td>   -0.819    -0.146</td>\n",
       "</tr>\n",
       "<tr>\n",
       "  <th>np.log(Budget):Genre[T.Epic]</th>        <td>    0.8798</td> <td>    7.815</td> <td>    0.113</td> <td> 0.910</td> <td>  -14.454    16.213</td>\n",
       "</tr>\n",
       "<tr>\n",
       "  <th>np.log(Budget):Genre[T.Family]</th>      <td>   -0.2460</td> <td>    1.705</td> <td>   -0.144</td> <td> 0.885</td> <td>   -3.590     3.098</td>\n",
       "</tr>\n",
       "<tr>\n",
       "  <th>np.log(Budget):Genre[T.Fantasy]</th>     <td>    0.3188</td> <td>    0.661</td> <td>    0.483</td> <td> 0.630</td> <td>   -0.977     1.615</td>\n",
       "</tr>\n",
       "<tr>\n",
       "  <th>np.log(Budget):Genre[T.Horror]</th>      <td>   -1.0713</td> <td>    0.176</td> <td>   -6.099</td> <td> 0.000</td> <td>   -1.416    -0.727</td>\n",
       "</tr>\n",
       "<tr>\n",
       "  <th>np.log(Budget):Genre[T.Romance]</th>     <td>    0.2267</td> <td>    0.471</td> <td>    0.481</td> <td> 0.631</td> <td>   -0.698     1.151</td>\n",
       "</tr>\n",
       "<tr>\n",
       "  <th>np.log(Budget):Genre[T.Sci-Fi]</th>      <td>   -0.5622</td> <td>    0.262</td> <td>   -2.147</td> <td> 0.032</td> <td>   -1.076    -0.048</td>\n",
       "</tr>\n",
       "<tr>\n",
       "  <th>np.log(Budget):Genre[T.Thriller]</th>    <td>   -0.7821</td> <td>    0.271</td> <td>   -2.881</td> <td> 0.004</td> <td>   -1.315    -0.250</td>\n",
       "</tr>\n",
       "<tr>\n",
       "  <th>np.log(Budget):Genre[T.War]</th>         <td>    0.4665</td> <td>    0.732</td> <td>    0.637</td> <td> 0.524</td> <td>   -0.970     1.903</td>\n",
       "</tr>\n",
       "<tr>\n",
       "  <th>np.log(Budget):Genre[T.Western]</th>     <td>   -0.1171</td> <td>    0.670</td> <td>   -0.175</td> <td> 0.861</td> <td>   -1.432     1.198</td>\n",
       "</tr>\n",
       "</table>\n",
       "<table class=\"simpletable\">\n",
       "<tr>\n",
       "  <th>Omnibus:</th>       <td>247.469</td> <th>  Durbin-Watson:     </th> <td>   1.957</td> \n",
       "</tr>\n",
       "<tr>\n",
       "  <th>Prob(Omnibus):</th> <td> 0.000</td>  <th>  Jarque-Bera (JB):  </th> <td> 537.666</td> \n",
       "</tr>\n",
       "<tr>\n",
       "  <th>Skew:</th>          <td>-1.120</td>  <th>  Prob(JB):          </th> <td>1.77e-117</td>\n",
       "</tr>\n",
       "<tr>\n",
       "  <th>Kurtosis:</th>      <td> 5.324</td>  <th>  Cond. No.          </th> <td>1.41e+05</td> \n",
       "</tr>\n",
       "</table>"
      ],
      "text/plain": [
       "<class 'statsmodels.iolib.summary.Summary'>\n",
       "\"\"\"\n",
       "                              OLS Regression Results                              \n",
       "==================================================================================\n",
       "Dep. Variable:     np.log(UK_Total_Gross)   R-squared:                       0.296\n",
       "Model:                                OLS   Adj. R-squared:                  0.276\n",
       "Method:                     Least Squares   F-statistic:                     14.85\n",
       "Date:                    Sat, 09 May 2015   Prob (F-statistic):           1.78e-69\n",
       "Time:                            20:33:50   Log-Likelihood:                -2360.1\n",
       "No. Observations:                    1238   AIC:                             4790.\n",
       "Df Residuals:                        1203   BIC:                             4969.\n",
       "Df Model:                              34                                         \n",
       "Covariance Type:                nonrobust                                         \n",
       "=======================================================================================================\n",
       "                                          coef    std err          t      P>|t|      [95.0% Conf. Int.]\n",
       "-------------------------------------------------------------------------------------------------------\n",
       "Intercept                              -4.9405      2.710     -1.823      0.069       -10.257     0.376\n",
       "Genre[T.Adventure]                      1.4669      6.423      0.228      0.819       -11.134    14.068\n",
       "Genre[T.Animation]                      2.1417      6.151      0.348      0.728        -9.926    14.209\n",
       "Genre[T.Comedy]                         6.5543      3.341      1.962      0.050        -0.001    13.109\n",
       "Genre[T.Concert]                     -342.0839    356.164     -0.960      0.337     -1040.855   356.687\n",
       "Genre[T.Crime]                          0.6973     85.396      0.008      0.993      -166.845   168.240\n",
       "Genre[T.Documentary]                   15.5285      6.045      2.569      0.010         3.668    27.389\n",
       "Genre[T.Drama]                          7.8929      3.038      2.598      0.009         1.933    13.853\n",
       "Genre[T.Epic]                         -16.8090    147.250     -0.114      0.909      -305.705   272.087\n",
       "Genre[T.Family]                         5.2529     29.702      0.177      0.860       -53.020    63.525\n",
       "Genre[T.Fantasy]                       -5.4470     12.238     -0.445      0.656       -29.456    18.562\n",
       "Genre[T.Horror]                        18.9327      3.085      6.138      0.000        12.881    24.984\n",
       "Genre[T.Romance]                       -3.3455      8.143     -0.411      0.681       -19.322    12.631\n",
       "Genre[T.Sci-Fi]                        10.1914      4.719      2.160      0.031         0.933    19.449\n",
       "Genre[T.Thriller]                      13.8829      4.742      2.928      0.003         4.579    23.187\n",
       "Genre[T.War]                           -9.2682     13.167     -0.704      0.482       -35.101    16.565\n",
       "Genre[T.Western]                        1.5917     11.756      0.135      0.892       -21.474    24.657\n",
       "British[T.1]                            0.3247      0.106      3.059      0.002         0.116     0.533\n",
       "np.log(Budget)                          1.1279      0.151      7.461      0.000         0.831     1.425\n",
       "np.log(Budget):Genre[T.Adventure]      -0.0666      0.353     -0.189      0.850        -0.758     0.625\n",
       "np.log(Budget):Genre[T.Animation]      -0.0781      0.337     -0.231      0.817        -0.740     0.584\n",
       "np.log(Budget):Genre[T.Comedy]         -0.3515      0.189     -1.860      0.063        -0.722     0.019\n",
       "np.log(Budget):Genre[T.Concert]        21.4154     22.169      0.966      0.334       -22.079    64.910\n",
       "np.log(Budget):Genre[T.Crime]           0.0109      4.813      0.002      0.998        -9.432     9.454\n",
       "np.log(Budget):Genre[T.Documentary]    -0.9890      0.390     -2.534      0.011        -1.755    -0.223\n",
       "np.log(Budget):Genre[T.Drama]          -0.4825      0.171     -2.815      0.005        -0.819    -0.146\n",
       "np.log(Budget):Genre[T.Epic]            0.8798      7.815      0.113      0.910       -14.454    16.213\n",
       "np.log(Budget):Genre[T.Family]         -0.2460      1.705     -0.144      0.885        -3.590     3.098\n",
       "np.log(Budget):Genre[T.Fantasy]         0.3188      0.661      0.483      0.630        -0.977     1.615\n",
       "np.log(Budget):Genre[T.Horror]         -1.0713      0.176     -6.099      0.000        -1.416    -0.727\n",
       "np.log(Budget):Genre[T.Romance]         0.2267      0.471      0.481      0.631        -0.698     1.151\n",
       "np.log(Budget):Genre[T.Sci-Fi]         -0.5622      0.262     -2.147      0.032        -1.076    -0.048\n",
       "np.log(Budget):Genre[T.Thriller]       -0.7821      0.271     -2.881      0.004        -1.315    -0.250\n",
       "np.log(Budget):Genre[T.War]             0.4665      0.732      0.637      0.524        -0.970     1.903\n",
       "np.log(Budget):Genre[T.Western]        -0.1171      0.670     -0.175      0.861        -1.432     1.198\n",
       "==============================================================================\n",
       "Omnibus:                      247.469   Durbin-Watson:                   1.957\n",
       "Prob(Omnibus):                  0.000   Jarque-Bera (JB):              537.666\n",
       "Skew:                          -1.120   Prob(JB):                    1.77e-117\n",
       "Kurtosis:                       5.324   Cond. No.                     1.41e+05\n",
       "==============================================================================\n",
       "\n",
       "Warnings:\n",
       "[1] Standard Errors assume that the covariance matrix of the errors is correctly specified.\n",
       "[2] The condition number is large, 1.41e+05. This might indicate that there are\n",
       "strong multicollinearity or other numerical problems.\n",
       "\"\"\""
      ]
     },
     "execution_count": 273,
     "metadata": {},
     "output_type": "execute_result"
    }
   ],
   "source": [
    "smf.ols(\"np.log(UK_Total_Gross) ~ np.log(Budget) * Genre + British\", \\\n",
    "        movie_df).fit().summary()"
   ]
  },
  {
   "cell_type": "markdown",
   "metadata": {},
   "source": [
    "Adding the genre and british variable add a little bit of information to the model, but it is still not a very good predictive model with an r squared of .296.  However, just looking at the British coefficient, we see it is 0.3247.  Since our variables have been log transformed, we need to take the exponential of this coefficient to bring it back into sensical terms; taking the expontential of this value gives us an effect of 38%.  So a quick glance at the data may indicate that all other things being equal, having a British actor or actress in a U.S. movie should add around 38% more revenue in the U.K.  Things can definitely change as more covariates are added, but this is merely a cursory look.  "
   ]
  },
  {
   "cell_type": "markdown",
   "metadata": {},
   "source": [
    "###Finally, I want to run a permutation test to check the accuracy of my British effect"
   ]
  },
  {
   "cell_type": "code",
   "execution_count": 272,
   "metadata": {
    "collapsed": false
   },
   "outputs": [
    {
     "data": {
      "text/plain": [
       "<matplotlib.text.Text at 0x131172e90>"
      ]
     },
     "execution_count": 272,
     "metadata": {},
     "output_type": "execute_result"
    },
    {
     "data": {
      "image/png": "[encoded data removed]",
      "text/plain": [
       "<matplotlib.figure.Figure at 0x131172d50>"
      ]
     },
     "metadata": {},
     "output_type": "display_data"
    }
   ],
   "source": [
    "british_coef = []\n",
    " \n",
    "for i in range(1000):\n",
    "    subset = movie_df.take(np.random.permutation(len(movie_df))[:400])\n",
    "    model = smf.ols(\"np.log(UK_Total_Gross) ~ np.log(Budget) + Genre + British\", subset).fit()\n",
    "    british_coef.append(model.params['British[T.1]'])\n",
    "\n",
    "\n",
    "sns.set_palette(\"pastel\")\n",
    "plt.rc(\"figure\", figsize=(8, 4))\n",
    "british_label = \"Average Difference (mean: \" + str(round(np.mean(british_coef), 2)) + \")\"\n",
    "sns.distplot(british_coef, label=british_label);\n",
    "plt.legend(loc='best')\n",
    "plt.xlabel('British Factor')\n",
    "plt.ylabel('Count')\n",
    "plt.title('Simulation of British Factor')"
   ]
  },
  {
   "cell_type": "markdown",
   "metadata": {},
   "source": [
    "This confirms my confidence in the British factor as the coefficient from my model was tested by taking random samples of movies from the dataframe, fitting a model, and storing the British coefficient.  These are then plotted to show the normal distribution about the mean of 0.36 which is very close to my original coefficient of 0.3247.  "
   ]
  },
  {
   "cell_type": "markdown",
   "metadata": {},
   "source": [
    "##My recommendation:  Cast a British actor or actress in your next movie as a first step to a larger audience in the UK."
   ]
  },
  {
   "cell_type": "code",
   "execution_count": null,
   "metadata": {
    "collapsed": true
   },
   "outputs": [],
   "source": []
  }
 ],
 "metadata": {
  "kernelspec": {
   "display_name": "Python 2",
   "language": "python",
   "name": "python2"
  },
  "language_info": {
   "codemirror_mode": {
    "name": "ipython",
    "version": 2
   },
   "file_extension": ".py",
   "mimetype": "text/x-python",
   "name": "python",
   "nbconvert_exporter": "python",
   "pygments_lexer": "ipython2",
   "version": "2.7.9"
  }
 },
 "nbformat": 4,
 "nbformat_minor": 0
}
