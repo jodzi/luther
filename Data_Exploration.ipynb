{
 "cells": [
  {
   "cell_type": "code",
   "execution_count": 7,
   "metadata": {
    "collapsed": true
   },
   "outputs": [],
   "source": [
    "import re\n",
    "import datetime\n",
    "import pandas as pd\n",
    "import statsmodels.formula.api as smf\n",
    "import numpy as np\n",
    "import matplotlib.pyplot as plt\n",
    "import pickle\n",
    "%matplotlib inline"
   ]
  },
  {
   "cell_type": "code",
   "execution_count": 8,
   "metadata": {
    "collapsed": true
   },
   "outputs": [],
   "source": [
    "def store_pickles(filename, to_store):\n",
    "    with open(filename, 'w') as f:\n",
    "        pickle.dump(to_store, f)\n",
    "        \n",
    "def eat_pickles(filename):\n",
    "    with open(filename, 'r') as f:\n",
    "        return pickle.load(f)"
   ]
  },
  {
   "cell_type": "code",
   "execution_count": 211,
   "metadata": {
    "collapsed": false
   },
   "outputs": [],
   "source": [
    "df = pd.read_csv('moviedata2015_a.csv', names=['BOM_url', 'Title', 'Domestic_Total_Gross', \\\n",
    "                                             'Release_Date', 'UK_Total_Gross', 'Actors', 'Country', 'British'],)"
   ]
  },
  {
   "cell_type": "code",
   "execution_count": 212,
   "metadata": {
    "collapsed": false
   },
   "outputs": [],
   "source": [
    "df_2 = df[['Title', 'Domestic_Total_Gross', 'UK_Total_Gross', 'Actors', 'Country', 'British']]"
   ]
  },
  {
   "cell_type": "code",
   "execution_count": 213,
   "metadata": {
    "collapsed": false
   },
   "outputs": [],
   "source": [
    "df_no_UK_ = df_2[df_2[\"Country\"] != 'UK']"
   ]
  },
  {
   "cell_type": "code",
   "execution_count": 284,
   "metadata": {
    "collapsed": false
   },
   "outputs": [],
   "source": [
    "test_list = []\n",
    " \n",
    "for country in df_no_UK['Country'].values:\n",
    "    try:\n",
    "        test_list.append(country.split(','))\n",
    "    except:\n",
    "        test_list.append([])"
   ]
  },
  {
   "cell_type": "code",
   "execution_count": 285,
   "metadata": {
    "collapsed": false
   },
   "outputs": [],
   "source": [
    "boolean_val = []\n",
    "\n",
    "for country in test_list:\n",
    "    if 'USA' in country:\n",
    "        boolean_val.append(True)\n",
    "    else:\n",
    "        boolean_val.append(False)"
   ]
  },
  {
   "cell_type": "code",
   "execution_count": null,
   "metadata": {
    "collapsed": true
   },
   "outputs": [],
   "source": [
    "df_US = df_no_UK[boolean_val]  "
   ]
  },
  {
   "cell_type": "code",
   "execution_count": 294,
   "metadata": {
    "collapsed": false
   },
   "outputs": [],
   "source": [
    "df_US = df_US[df_US['UK_Total_Gross'] > 250000]"
   ]
  },
  {
   "cell_type": "code",
   "execution_count": 371,
   "metadata": {
    "collapsed": false
   },
   "outputs": [],
   "source": [
    "#df_US = df_US.drop(1917)\n",
    "#df_US = df_US.drop(164)\n",
    "#df_US = df_US.drop(472)\n",
    "#df_US = df_US.drop(818)\n",
    "#df_US = df_US.drop(945)"
   ]
  },
  {
   "cell_type": "code",
   "execution_count": 360,
   "metadata": {
    "collapsed": false,
    "scrolled": true
   },
   "outputs": [],
   "source": [
    "#df_non_avataar = df_US.drop(1913)\n",
    "#df_US[df_US['Domestic_Total_Gross'].isnull()]\n",
    "#missing_gross = [26213520, 0, 165982915, 17113323, 31338504, 128002372, 0, 0, 22348241, 18562800, 64460211, \\\n",
    "#                37862911, 53659191, 42340598, 121245304, 17266000, 13092000, 187178992, 250863268, 47248274, \\\n",
    "#                47842467, 10219501, 79348835]\n",
    "#indices = df_US[df_US['Domestic_Total_Gross'].isnull()].index"
   ]
  },
  {
   "cell_type": "code",
   "execution_count": 361,
   "metadata": {
    "collapsed": true
   },
   "outputs": [],
   "source": [
    "#for i in range(len(indices)):\n",
    "#    df_US.loc[indices[i], 'Domestic_Total_Gross'] = missing_gross[i]"
   ]
  },
  {
   "cell_type": "code",
   "execution_count": 346,
   "metadata": {
    "collapsed": false
   },
   "outputs": [],
   "source": [
    "#df_US.loc[20, 'Domestic_Total_Gross'] = 222404450\n",
    "#df_US.loc[26, 'Domestic_Total_Gross'] = 83320932\n",
    "#df_US.loc[79, 'Domestic_Total_Gross'] = 35916045\n",
    "#df_US.loc[237, 'Domestic_Total_Gross'] = 161756387\n",
    "#df_US.loc[46, 'Domestic_Total_Gross'] = 83320932\n",
    "#df_US.loc[79, 'Domestic_Total_Gross']"
   ]
  },
  {
   "cell_type": "code",
   "execution_count": 27,
   "metadata": {
    "collapsed": false
   },
   "outputs": [
    {
     "data": {
      "text/plain": [
       "<matplotlib.collections.PathCollection at 0x10a30a790>"
      ]
     },
     "execution_count": 27,
     "metadata": {},
     "output_type": "execute_result"
    },
    {
     "data": {
      "image/png": "[encoded data removed]",
      "text/plain": [
       "<matplotlib.figure.Figure at 0x103896150>"
      ]
     },
     "metadata": {},
     "output_type": "display_data"
    }
   ],
   "source": [
    "plt.scatter(US_final['Domestic_Total_Gross'], US_final['UK_Total_Gross'])"
   ]
  },
  {
   "cell_type": "code",
   "execution_count": 465,
   "metadata": {
    "collapsed": false
   },
   "outputs": [
    {
     "data": {
      "text/html": [
       "<table class=\"simpletable\">\n",
       "<caption>OLS Regression Results</caption>\n",
       "<tr>\n",
       "  <th>Dep. Variable:</th>    <td>np.log(UK_Total_Gross)</td> <th>  R-squared:         </th> <td>   0.546</td> \n",
       "</tr>\n",
       "<tr>\n",
       "  <th>Model:</th>                      <td>OLS</td>          <th>  Adj. R-squared:    </th> <td>   0.545</td> \n",
       "</tr>\n",
       "<tr>\n",
       "  <th>Method:</th>                <td>Least Squares</td>     <th>  F-statistic:       </th> <td>   780.0</td> \n",
       "</tr>\n",
       "<tr>\n",
       "  <th>Date:</th>                <td>Wed, 22 Apr 2015</td>    <th>  Prob (F-statistic):</th> <td>3.90e-223</td>\n",
       "</tr>\n",
       "<tr>\n",
       "  <th>Time:</th>                    <td>20:07:37</td>        <th>  Log-Likelihood:    </th> <td> -1724.5</td> \n",
       "</tr>\n",
       "<tr>\n",
       "  <th>No. Observations:</th>         <td>  1300</td>         <th>  AIC:               </th> <td>   3455.</td> \n",
       "</tr>\n",
       "<tr>\n",
       "  <th>Df Residuals:</th>             <td>  1297</td>         <th>  BIC:               </th> <td>   3471.</td> \n",
       "</tr>\n",
       "<tr>\n",
       "  <th>Df Model:</th>                 <td>     2</td>         <th>                     </th>     <td> </td>    \n",
       "</tr>\n",
       "</table>\n",
       "<table class=\"simpletable\">\n",
       "<tr>\n",
       "                <td></td>                  <th>coef</th>     <th>std err</th>      <th>t</th>      <th>P>|t|</th> <th>[95.0% Conf. Int.]</th> \n",
       "</tr>\n",
       "<tr>\n",
       "  <th>Intercept</th>                    <td>    2.7503</td> <td>    0.323</td> <td>    8.517</td> <td> 0.000</td> <td>    2.117     3.384</td>\n",
       "</tr>\n",
       "<tr>\n",
       "  <th>np.log(Domestic_Total_Gross)</th> <td>    0.7159</td> <td>    0.018</td> <td>   38.723</td> <td> 0.000</td> <td>    0.680     0.752</td>\n",
       "</tr>\n",
       "<tr>\n",
       "  <th>British</th>                      <td>    0.3080</td> <td>    0.053</td> <td>    5.786</td> <td> 0.000</td> <td>    0.204     0.412</td>\n",
       "</tr>\n",
       "</table>\n",
       "<table class=\"simpletable\">\n",
       "<tr>\n",
       "  <th>Omnibus:</th>       <td>63.183</td> <th>  Durbin-Watson:     </th> <td>   1.974</td>\n",
       "</tr>\n",
       "<tr>\n",
       "  <th>Prob(Omnibus):</th> <td> 0.000</td> <th>  Jarque-Bera (JB):  </th> <td> 162.116</td>\n",
       "</tr>\n",
       "<tr>\n",
       "  <th>Skew:</th>          <td>-0.234</td> <th>  Prob(JB):          </th> <td>6.26e-36</td>\n",
       "</tr>\n",
       "<tr>\n",
       "  <th>Kurtosis:</th>      <td> 4.666</td> <th>  Cond. No.          </th> <td>    224.</td>\n",
       "</tr>\n",
       "</table>"
      ],
      "text/plain": [
       "<class 'statsmodels.iolib.summary.Summary'>\n",
       "\"\"\"\n",
       "                              OLS Regression Results                              \n",
       "==================================================================================\n",
       "Dep. Variable:     np.log(UK_Total_Gross)   R-squared:                       0.546\n",
       "Model:                                OLS   Adj. R-squared:                  0.545\n",
       "Method:                     Least Squares   F-statistic:                     780.0\n",
       "Date:                    Wed, 22 Apr 2015   Prob (F-statistic):          3.90e-223\n",
       "Time:                            20:07:37   Log-Likelihood:                -1724.5\n",
       "No. Observations:                    1300   AIC:                             3455.\n",
       "Df Residuals:                        1297   BIC:                             3471.\n",
       "Df Model:                               2                                         \n",
       "================================================================================================\n",
       "                                   coef    std err          t      P>|t|      [95.0% Conf. Int.]\n",
       "------------------------------------------------------------------------------------------------\n",
       "Intercept                        2.7503      0.323      8.517      0.000         2.117     3.384\n",
       "np.log(Domestic_Total_Gross)     0.7159      0.018     38.723      0.000         0.680     0.752\n",
       "British                          0.3080      0.053      5.786      0.000         0.204     0.412\n",
       "==============================================================================\n",
       "Omnibus:                       63.183   Durbin-Watson:                   1.974\n",
       "Prob(Omnibus):                  0.000   Jarque-Bera (JB):              162.116\n",
       "Skew:                          -0.234   Prob(JB):                     6.26e-36\n",
       "Kurtosis:                       4.666   Cond. No.                         224.\n",
       "==============================================================================\n",
       "\"\"\""
      ]
     },
     "execution_count": 465,
     "metadata": {},
     "output_type": "execute_result"
    }
   ],
   "source": [
    "smf.ols(\"np.log(UK_Total_Gross) ~ np.log(Domestic_Total_Gross) + British\", df_US).fit().summary()"
   ]
  },
  {
   "cell_type": "code",
   "execution_count": 456,
   "metadata": {
    "collapsed": false
   },
   "outputs": [],
   "source": [
    "genre_df.columns = ['Budget', 'Genre', 'Title']"
   ]
  },
  {
   "cell_type": "code",
   "execution_count": 458,
   "metadata": {
    "collapsed": false
   },
   "outputs": [],
   "source": [
    "US_df = df_test.merge(genre_df)"
   ]
  },
  {
   "cell_type": "code",
   "execution_count": 28,
   "metadata": {
    "collapsed": false,
    "scrolled": true
   },
   "outputs": [
    {
     "data": {
      "text/html": [
       "<table class=\"simpletable\">\n",
       "<caption>OLS Regression Results</caption>\n",
       "<tr>\n",
       "  <th>Dep. Variable:</th>    <td>np.log(UK_Total_Gross)</td> <th>  R-squared:         </th> <td>   0.997</td> \n",
       "</tr>\n",
       "<tr>\n",
       "  <th>Model:</th>                      <td>OLS</td>          <th>  Adj. R-squared:    </th> <td>   0.997</td> \n",
       "</tr>\n",
       "<tr>\n",
       "  <th>Method:</th>                <td>Least Squares</td>     <th>  F-statistic:       </th> <td>1.933e+04</td>\n",
       "</tr>\n",
       "<tr>\n",
       "  <th>Date:</th>                <td>Thu, 23 Apr 2015</td>    <th>  Prob (F-statistic):</th>  <td>  0.00</td>  \n",
       "</tr>\n",
       "<tr>\n",
       "  <th>Time:</th>                    <td>11:47:08</td>        <th>  Log-Likelihood:    </th> <td> -1195.0</td> \n",
       "</tr>\n",
       "<tr>\n",
       "  <th>No. Observations:</th>         <td>  1010</td>         <th>  AIC:               </th> <td>   2430.</td> \n",
       "</tr>\n",
       "<tr>\n",
       "  <th>Df Residuals:</th>             <td>   990</td>         <th>  BIC:               </th> <td>   2528.</td> \n",
       "</tr>\n",
       "<tr>\n",
       "  <th>Df Model:</th>                 <td>    20</td>         <th>                     </th>     <td> </td>    \n",
       "</tr>\n",
       "</table>\n",
       "<table class=\"simpletable\">\n",
       "<tr>\n",
       "                <td></td>                  <th>coef</th>     <th>std err</th>      <th>t</th>      <th>P>|t|</th> <th>[95.0% Conf. Int.]</th> \n",
       "</tr>\n",
       "<tr>\n",
       "  <th>Intercept</th>                    <td>   -2.1371</td> <td>    0.554</td> <td>   -3.856</td> <td> 0.000</td> <td>   -3.225    -1.050</td>\n",
       "</tr>\n",
       "<tr>\n",
       "  <th>Genres[T.Adventure]</th>          <td>    0.2282</td> <td>    0.120</td> <td>    1.898</td> <td> 0.058</td> <td>   -0.008     0.464</td>\n",
       "</tr>\n",
       "<tr>\n",
       "  <th>Genres[T.Animation]</th>          <td>    0.3705</td> <td>    0.108</td> <td>    3.425</td> <td> 0.001</td> <td>    0.158     0.583</td>\n",
       "</tr>\n",
       "<tr>\n",
       "  <th>Genres[T.Comedy]</th>             <td>    0.0328</td> <td>    0.081</td> <td>    0.407</td> <td> 0.684</td> <td>   -0.125     0.191</td>\n",
       "</tr>\n",
       "<tr>\n",
       "  <th>Genres[T.Concert]</th>            <td>    0.7776</td> <td>    0.570</td> <td>    1.364</td> <td> 0.173</td> <td>   -0.341     1.896</td>\n",
       "</tr>\n",
       "<tr>\n",
       "  <th>Genres[T.Crime]</th>              <td>    0.4773</td> <td>    0.465</td> <td>    1.027</td> <td> 0.304</td> <td>   -0.434     1.389</td>\n",
       "</tr>\n",
       "<tr>\n",
       "  <th>Genres[T.Documentary]</th>        <td>   -0.0863</td> <td>    0.340</td> <td>   -0.254</td> <td> 0.800</td> <td>   -0.754     0.581</td>\n",
       "</tr>\n",
       "<tr>\n",
       "  <th>Genres[T.Drama]</th>              <td>   -0.0090</td> <td>    0.091</td> <td>   -0.099</td> <td> 0.921</td> <td>   -0.188     0.169</td>\n",
       "</tr>\n",
       "<tr>\n",
       "  <th>Genres[T.Epic]</th>               <td>    0.7334</td> <td>    0.568</td> <td>    1.291</td> <td> 0.197</td> <td>   -0.381     1.848</td>\n",
       "</tr>\n",
       "<tr>\n",
       "  <th>Genres[T.Family]</th>             <td>    0.0709</td> <td>    0.332</td> <td>    0.214</td> <td> 0.831</td> <td>   -0.580     0.722</td>\n",
       "</tr>\n",
       "<tr>\n",
       "  <th>Genres[T.Fantasy]</th>            <td>    0.0882</td> <td>    0.182</td> <td>    0.486</td> <td> 0.627</td> <td>   -0.268     0.445</td>\n",
       "</tr>\n",
       "<tr>\n",
       "  <th>Genres[T.Horror]</th>             <td>    0.1467</td> <td>    0.110</td> <td>    1.330</td> <td> 0.184</td> <td>   -0.070     0.363</td>\n",
       "</tr>\n",
       "<tr>\n",
       "  <th>Genres[T.IMAX]</th>               <td>-1.803e-16</td> <td> 1.77e-16</td> <td>   -1.021</td> <td> 0.308</td> <td>-5.27e-16  1.66e-16</td>\n",
       "</tr>\n",
       "<tr>\n",
       "  <th>Genres[T.Romance]</th>            <td>    0.3349</td> <td>    0.175</td> <td>    1.917</td> <td> 0.055</td> <td>   -0.008     0.678</td>\n",
       "</tr>\n",
       "<tr>\n",
       "  <th>Genres[T.Sci-Fi]</th>             <td>    0.1022</td> <td>    0.307</td> <td>    0.332</td> <td> 0.740</td> <td>   -0.501     0.705</td>\n",
       "</tr>\n",
       "<tr>\n",
       "  <th>Genres[T.Thriller]</th>           <td>   -0.0033</td> <td>    0.106</td> <td>   -0.032</td> <td> 0.975</td> <td>   -0.211     0.204</td>\n",
       "</tr>\n",
       "<tr>\n",
       "  <th>Genres[T.War]</th>                <td>    0.0595</td> <td>    0.307</td> <td>    0.194</td> <td> 0.846</td> <td>   -0.543     0.663</td>\n",
       "</tr>\n",
       "<tr>\n",
       "  <th>Genres[T.Western]</th>            <td>    0.2543</td> <td>    0.362</td> <td>    0.703</td> <td> 0.482</td> <td>   -0.456     0.964</td>\n",
       "</tr>\n",
       "<tr>\n",
       "  <th>np.log(Domestic_Total_Gross)</th> <td>    0.9266</td> <td>    0.029</td> <td>   31.565</td> <td> 0.000</td> <td>    0.869     0.984</td>\n",
       "</tr>\n",
       "<tr>\n",
       "  <th>np.log(Budget)</th>               <td>    0.0620</td> <td>    0.028</td> <td>    2.228</td> <td> 0.026</td> <td>    0.007     0.117</td>\n",
       "</tr>\n",
       "<tr>\n",
       "  <th>British</th>                      <td>    0.2606</td> <td>    0.057</td> <td>    4.597</td> <td> 0.000</td> <td>    0.149     0.372</td>\n",
       "</tr>\n",
       "</table>\n",
       "<table class=\"simpletable\">\n",
       "<tr>\n",
       "  <th>Omnibus:</th>       <td>137.056</td> <th>  Durbin-Watson:     </th> <td>   1.994</td>\n",
       "</tr>\n",
       "<tr>\n",
       "  <th>Prob(Omnibus):</th> <td> 0.000</td>  <th>  Jarque-Bera (JB):  </th> <td> 323.464</td>\n",
       "</tr>\n",
       "<tr>\n",
       "  <th>Skew:</th>          <td>-0.753</td>  <th>  Prob(JB):          </th> <td>5.76e-71</td>\n",
       "</tr>\n",
       "<tr>\n",
       "  <th>Kurtosis:</th>      <td> 5.327</td>  <th>  Cond. No.          </th> <td>     nan</td>\n",
       "</tr>\n",
       "</table>"
      ],
      "text/plain": [
       "<class 'statsmodels.iolib.summary.Summary'>\n",
       "\"\"\"\n",
       "                              OLS Regression Results                              \n",
       "==================================================================================\n",
       "Dep. Variable:     np.log(UK_Total_Gross)   R-squared:                       0.997\n",
       "Model:                                OLS   Adj. R-squared:                  0.997\n",
       "Method:                     Least Squares   F-statistic:                 1.933e+04\n",
       "Date:                    Thu, 23 Apr 2015   Prob (F-statistic):               0.00\n",
       "Time:                            11:47:08   Log-Likelihood:                -1195.0\n",
       "No. Observations:                    1010   AIC:                             2430.\n",
       "Df Residuals:                         990   BIC:                             2528.\n",
       "Df Model:                              20                                         \n",
       "================================================================================================\n",
       "                                   coef    std err          t      P>|t|      [95.0% Conf. Int.]\n",
       "------------------------------------------------------------------------------------------------\n",
       "Intercept                       -2.1371      0.554     -3.856      0.000        -3.225    -1.050\n",
       "Genres[T.Adventure]              0.2282      0.120      1.898      0.058        -0.008     0.464\n",
       "Genres[T.Animation]              0.3705      0.108      3.425      0.001         0.158     0.583\n",
       "Genres[T.Comedy]                 0.0328      0.081      0.407      0.684        -0.125     0.191\n",
       "Genres[T.Concert]                0.7776      0.570      1.364      0.173        -0.341     1.896\n",
       "Genres[T.Crime]                  0.4773      0.465      1.027      0.304        -0.434     1.389\n",
       "Genres[T.Documentary]           -0.0863      0.340     -0.254      0.800        -0.754     0.581\n",
       "Genres[T.Drama]                 -0.0090      0.091     -0.099      0.921        -0.188     0.169\n",
       "Genres[T.Epic]                   0.7334      0.568      1.291      0.197        -0.381     1.848\n",
       "Genres[T.Family]                 0.0709      0.332      0.214      0.831        -0.580     0.722\n",
       "Genres[T.Fantasy]                0.0882      0.182      0.486      0.627        -0.268     0.445\n",
       "Genres[T.Horror]                 0.1467      0.110      1.330      0.184        -0.070     0.363\n",
       "Genres[T.IMAX]               -1.803e-16   1.77e-16     -1.021      0.308     -5.27e-16  1.66e-16\n",
       "Genres[T.Romance]                0.3349      0.175      1.917      0.055        -0.008     0.678\n",
       "Genres[T.Sci-Fi]                 0.1022      0.307      0.332      0.740        -0.501     0.705\n",
       "Genres[T.Thriller]              -0.0033      0.106     -0.032      0.975        -0.211     0.204\n",
       "Genres[T.War]                    0.0595      0.307      0.194      0.846        -0.543     0.663\n",
       "Genres[T.Western]                0.2543      0.362      0.703      0.482        -0.456     0.964\n",
       "np.log(Domestic_Total_Gross)     0.9266      0.029     31.565      0.000         0.869     0.984\n",
       "np.log(Budget)                   0.0620      0.028      2.228      0.026         0.007     0.117\n",
       "British                          0.2606      0.057      4.597      0.000         0.149     0.372\n",
       "==============================================================================\n",
       "Omnibus:                      137.056   Durbin-Watson:                   1.994\n",
       "Prob(Omnibus):                  0.000   Jarque-Bera (JB):              323.464\n",
       "Skew:                          -0.753   Prob(JB):                     5.76e-71\n",
       "Kurtosis:                       5.327   Cond. No.                          nan\n",
       "==============================================================================\n",
       "\n",
       "Warnings:\n",
       "[1] The smallest eigenvalue is -6.77e-15. This might indicate that there are\n",
       "strong multicollinearity problems or that the design matrix is singular.\n",
       "\"\"\""
      ]
     },
     "execution_count": 28,
     "metadata": {},
     "output_type": "execute_result"
    }
   ],
   "source": [
    "smf.ols(\"np.log(UK_Total_Gross) ~ np.log(Domestic_Total_Gross) + Genres + np.log(Budget) + British\", US_final).fit().summary()"
   ]
  },
  {
   "cell_type": "code",
   "execution_count": 485,
   "metadata": {
    "collapsed": true
   },
   "outputs": [],
   "source": [
    "US_df_final.to_csv('US_final.csv')"
   ]
  },
  {
   "cell_type": "code",
   "execution_count": 472,
   "metadata": {
    "collapsed": false
   },
   "outputs": [],
   "source": [
    "title_genre = eat_pickles('title_genre.pkl')"
   ]
  },
  {
   "cell_type": "code",
   "execution_count": 473,
   "metadata": {
    "collapsed": true
   },
   "outputs": [],
   "source": [
    "df_title_genre = pd.DataFrame(title_genre)"
   ]
  },
  {
   "cell_type": "code",
   "execution_count": 476,
   "metadata": {
    "collapsed": false
   },
   "outputs": [],
   "source": [
    "#df_title_genre\n",
    "del US_df['Genre']"
   ]
  },
  {
   "cell_type": "code",
   "execution_count": 479,
   "metadata": {
    "collapsed": false
   },
   "outputs": [],
   "source": [
    "US_df_final = US_df.merge(df_title_genre)"
   ]
  },
  {
   "cell_type": "code",
   "execution_count": 13,
   "metadata": {
    "collapsed": false
   },
   "outputs": [],
   "source": [
    "US_final = pd.read_csv('US_final.csv')"
   ]
  },
  {
   "cell_type": "code",
   "execution_count": 16,
   "metadata": {
    "collapsed": false
   },
   "outputs": [
    {
     "data": {
      "text/html": [
       "<table class=\"simpletable\">\n",
       "<caption>OLS Regression Results</caption>\n",
       "<tr>\n",
       "  <th>Dep. Variable:</th>     <td>UK_Total_Gross</td>  <th>  R-squared:         </th> <td>   0.822</td> \n",
       "</tr>\n",
       "<tr>\n",
       "  <th>Model:</th>                   <td>OLS</td>       <th>  Adj. R-squared:    </th> <td>   0.818</td> \n",
       "</tr>\n",
       "<tr>\n",
       "  <th>Method:</th>             <td>Least Squares</td>  <th>  F-statistic:       </th> <td>   228.3</td> \n",
       "</tr>\n",
       "<tr>\n",
       "  <th>Date:</th>             <td>Thu, 23 Apr 2015</td> <th>  Prob (F-statistic):</th>  <td>  0.00</td>  \n",
       "</tr>\n",
       "<tr>\n",
       "  <th>Time:</th>                 <td>10:41:01</td>     <th>  Log-Likelihood:    </th> <td> -17529.</td> \n",
       "</tr>\n",
       "<tr>\n",
       "  <th>No. Observations:</th>      <td>  1010</td>      <th>  AIC:               </th> <td>3.510e+04</td>\n",
       "</tr>\n",
       "<tr>\n",
       "  <th>Df Residuals:</th>          <td>   990</td>      <th>  BIC:               </th> <td>3.520e+04</td>\n",
       "</tr>\n",
       "<tr>\n",
       "  <th>Df Model:</th>              <td>    20</td>      <th>                     </th>     <td> </td>    \n",
       "</tr>\n",
       "</table>\n",
       "<table class=\"simpletable\">\n",
       "<tr>\n",
       "            <td></td>               <th>coef</th>     <th>std err</th>      <th>t</th>      <th>P>|t|</th> <th>[95.0% Conf. Int.]</th> \n",
       "</tr>\n",
       "<tr>\n",
       "  <th>Intercept</th>             <td>-5.002e+06</td> <td> 8.71e+05</td> <td>   -5.745</td> <td> 0.000</td> <td>-6.71e+06 -3.29e+06</td>\n",
       "</tr>\n",
       "<tr>\n",
       "  <th>Genres[T.Adventure]</th>   <td> 4.031e+06</td> <td> 1.28e+06</td> <td>    3.160</td> <td> 0.002</td> <td> 1.53e+06  6.53e+06</td>\n",
       "</tr>\n",
       "<tr>\n",
       "  <th>Genres[T.Animation]</th>   <td> 6.442e+06</td> <td> 1.15e+06</td> <td>    5.615</td> <td> 0.000</td> <td> 4.19e+06  8.69e+06</td>\n",
       "</tr>\n",
       "<tr>\n",
       "  <th>Genres[T.Comedy]</th>      <td> 2.011e+06</td> <td> 8.75e+05</td> <td>    2.298</td> <td> 0.022</td> <td> 2.93e+05  3.73e+06</td>\n",
       "</tr>\n",
       "<tr>\n",
       "  <th>Genres[T.Concert]</th>     <td> 8.279e+06</td> <td> 6.01e+06</td> <td>    1.376</td> <td> 0.169</td> <td>-3.52e+06  2.01e+07</td>\n",
       "</tr>\n",
       "<tr>\n",
       "  <th>Genres[T.Crime]</th>       <td> 3.552e+06</td> <td> 4.91e+06</td> <td>    0.724</td> <td> 0.470</td> <td>-6.08e+06  1.32e+07</td>\n",
       "</tr>\n",
       "<tr>\n",
       "  <th>Genres[T.Documentary]</th> <td> 1.361e+06</td> <td> 3.54e+06</td> <td>    0.384</td> <td> 0.701</td> <td>-5.59e+06  8.31e+06</td>\n",
       "</tr>\n",
       "<tr>\n",
       "  <th>Genres[T.Drama]</th>       <td> 2.126e+06</td> <td> 9.75e+05</td> <td>    2.180</td> <td> 0.030</td> <td> 2.12e+05  4.04e+06</td>\n",
       "</tr>\n",
       "<tr>\n",
       "  <th>Genres[T.Epic]</th>        <td> 8.976e+06</td> <td> 6.02e+06</td> <td>    1.492</td> <td> 0.136</td> <td>-2.83e+06  2.08e+07</td>\n",
       "</tr>\n",
       "<tr>\n",
       "  <th>Genres[T.Family]</th>      <td> 5.202e+06</td> <td> 3.51e+06</td> <td>    1.481</td> <td> 0.139</td> <td>-1.69e+06  1.21e+07</td>\n",
       "</tr>\n",
       "<tr>\n",
       "  <th>Genres[T.Fantasy]</th>     <td> 5.633e+06</td> <td> 1.92e+06</td> <td>    2.934</td> <td> 0.003</td> <td> 1.87e+06   9.4e+06</td>\n",
       "</tr>\n",
       "<tr>\n",
       "  <th>Genres[T.Horror]</th>      <td> 3.281e+06</td> <td> 1.14e+06</td> <td>    2.866</td> <td> 0.004</td> <td> 1.03e+06  5.53e+06</td>\n",
       "</tr>\n",
       "<tr>\n",
       "  <th>Genres[T.IMAX]</th>        <td> 9.529e-10</td> <td> 1.93e-09</td> <td>    0.494</td> <td> 0.621</td> <td>-2.83e-09  4.74e-09</td>\n",
       "</tr>\n",
       "<tr>\n",
       "  <th>Genres[T.Romance]</th>     <td> 4.065e+06</td> <td> 1.87e+06</td> <td>    2.177</td> <td> 0.030</td> <td> 4.01e+05  7.73e+06</td>\n",
       "</tr>\n",
       "<tr>\n",
       "  <th>Genres[T.Sci-Fi]</th>      <td> 3.779e+05</td> <td> 3.25e+06</td> <td>    0.116</td> <td> 0.907</td> <td>   -6e+06  6.76e+06</td>\n",
       "</tr>\n",
       "<tr>\n",
       "  <th>Genres[T.Thriller]</th>    <td> 2.119e+06</td> <td> 1.13e+06</td> <td>    1.871</td> <td> 0.062</td> <td>-1.03e+05  4.34e+06</td>\n",
       "</tr>\n",
       "<tr>\n",
       "  <th>Genres[T.War]</th>         <td> 3.658e+06</td> <td> 3.25e+06</td> <td>    1.127</td> <td> 0.260</td> <td>-2.71e+06     1e+07</td>\n",
       "</tr>\n",
       "<tr>\n",
       "  <th>Genres[T.Western]</th>     <td> 8.912e+05</td> <td> 3.82e+06</td> <td>    0.233</td> <td> 0.816</td> <td>-6.61e+06  8.39e+06</td>\n",
       "</tr>\n",
       "<tr>\n",
       "  <th>Domestic_Total_Gross</th>  <td>    0.1634</td> <td>    0.005</td> <td>   35.351</td> <td> 0.000</td> <td>    0.154     0.172</td>\n",
       "</tr>\n",
       "<tr>\n",
       "  <th>Budget</th>                <td>    0.0163</td> <td>    0.008</td> <td>    2.055</td> <td> 0.040</td> <td>    0.001     0.032</td>\n",
       "</tr>\n",
       "<tr>\n",
       "  <th>British</th>               <td> 1.879e+06</td> <td>    6e+05</td> <td>    3.132</td> <td> 0.002</td> <td> 7.02e+05  3.06e+06</td>\n",
       "</tr>\n",
       "</table>\n",
       "<table class=\"simpletable\">\n",
       "<tr>\n",
       "  <th>Omnibus:</th>       <td>753.461</td> <th>  Durbin-Watson:     </th> <td>   1.941</td> \n",
       "</tr>\n",
       "<tr>\n",
       "  <th>Prob(Omnibus):</th> <td> 0.000</td>  <th>  Jarque-Bera (JB):  </th> <td>49013.378</td>\n",
       "</tr>\n",
       "<tr>\n",
       "  <th>Skew:</th>          <td> 2.790</td>  <th>  Prob(JB):          </th> <td>    0.00</td> \n",
       "</tr>\n",
       "<tr>\n",
       "  <th>Kurtosis:</th>      <td>36.668</td>  <th>  Cond. No.          </th> <td>     nan</td> \n",
       "</tr>\n",
       "</table>"
      ],
      "text/plain": [
       "<class 'statsmodels.iolib.summary.Summary'>\n",
       "\"\"\"\n",
       "                            OLS Regression Results                            \n",
       "==============================================================================\n",
       "Dep. Variable:         UK_Total_Gross   R-squared:                       0.822\n",
       "Model:                            OLS   Adj. R-squared:                  0.818\n",
       "Method:                 Least Squares   F-statistic:                     228.3\n",
       "Date:                Thu, 23 Apr 2015   Prob (F-statistic):               0.00\n",
       "Time:                        10:41:01   Log-Likelihood:                -17529.\n",
       "No. Observations:                1010   AIC:                         3.510e+04\n",
       "Df Residuals:                     990   BIC:                         3.520e+04\n",
       "Df Model:                          20                                         \n",
       "=========================================================================================\n",
       "                            coef    std err          t      P>|t|      [95.0% Conf. Int.]\n",
       "-----------------------------------------------------------------------------------------\n",
       "Intercept             -5.002e+06   8.71e+05     -5.745      0.000     -6.71e+06 -3.29e+06\n",
       "Genres[T.Adventure]    4.031e+06   1.28e+06      3.160      0.002      1.53e+06  6.53e+06\n",
       "Genres[T.Animation]    6.442e+06   1.15e+06      5.615      0.000      4.19e+06  8.69e+06\n",
       "Genres[T.Comedy]       2.011e+06   8.75e+05      2.298      0.022      2.93e+05  3.73e+06\n",
       "Genres[T.Concert]      8.279e+06   6.01e+06      1.376      0.169     -3.52e+06  2.01e+07\n",
       "Genres[T.Crime]        3.552e+06   4.91e+06      0.724      0.470     -6.08e+06  1.32e+07\n",
       "Genres[T.Documentary]  1.361e+06   3.54e+06      0.384      0.701     -5.59e+06  8.31e+06\n",
       "Genres[T.Drama]        2.126e+06   9.75e+05      2.180      0.030      2.12e+05  4.04e+06\n",
       "Genres[T.Epic]         8.976e+06   6.02e+06      1.492      0.136     -2.83e+06  2.08e+07\n",
       "Genres[T.Family]       5.202e+06   3.51e+06      1.481      0.139     -1.69e+06  1.21e+07\n",
       "Genres[T.Fantasy]      5.633e+06   1.92e+06      2.934      0.003      1.87e+06   9.4e+06\n",
       "Genres[T.Horror]       3.281e+06   1.14e+06      2.866      0.004      1.03e+06  5.53e+06\n",
       "Genres[T.IMAX]         9.529e-10   1.93e-09      0.494      0.621     -2.83e-09  4.74e-09\n",
       "Genres[T.Romance]      4.065e+06   1.87e+06      2.177      0.030      4.01e+05  7.73e+06\n",
       "Genres[T.Sci-Fi]       3.779e+05   3.25e+06      0.116      0.907        -6e+06  6.76e+06\n",
       "Genres[T.Thriller]     2.119e+06   1.13e+06      1.871      0.062     -1.03e+05  4.34e+06\n",
       "Genres[T.War]          3.658e+06   3.25e+06      1.127      0.260     -2.71e+06     1e+07\n",
       "Genres[T.Western]      8.912e+05   3.82e+06      0.233      0.816     -6.61e+06  8.39e+06\n",
       "Domestic_Total_Gross      0.1634      0.005     35.351      0.000         0.154     0.172\n",
       "Budget                    0.0163      0.008      2.055      0.040         0.001     0.032\n",
       "British                1.879e+06      6e+05      3.132      0.002      7.02e+05  3.06e+06\n",
       "==============================================================================\n",
       "Omnibus:                      753.461   Durbin-Watson:                   1.941\n",
       "Prob(Omnibus):                  0.000   Jarque-Bera (JB):            49013.378\n",
       "Skew:                           2.790   Prob(JB):                         0.00\n",
       "Kurtosis:                      36.668   Cond. No.                          nan\n",
       "==============================================================================\n",
       "\n",
       "Warnings:\n",
       "[1] The smallest eigenvalue is   -298. This might indicate that there are\n",
       "strong multicollinearity problems or that the design matrix is singular.\n",
       "\"\"\""
      ]
     },
     "execution_count": 16,
     "metadata": {},
     "output_type": "execute_result"
    }
   ],
   "source": [
    "smf.ols(\"UK_Total_Gross ~ Domestic_Total_Gross + Genres + Budget + British\", US_final).fit().summary()"
   ]
  },
  {
   "cell_type": "code",
   "execution_count": 19,
   "metadata": {
    "collapsed": false
   },
   "outputs": [],
   "source": [
    "US_final_lowbudget = US_final[US_final['Budget'] < 100000000]"
   ]
  },
  {
   "cell_type": "code",
   "execution_count": 22,
   "metadata": {
    "collapsed": true
   },
   "outputs": [],
   "source": [
    "US_final_highbudget = US_final[US_final['Budget'] >= 100000000]"
   ]
  },
  {
   "cell_type": "code",
   "execution_count": 26,
   "metadata": {
    "collapsed": false
   },
   "outputs": [
    {
     "data": {
      "text/html": [
       "<table class=\"simpletable\">\n",
       "<caption>OLS Regression Results</caption>\n",
       "<tr>\n",
       "  <th>Dep. Variable:</th>     <td>UK_Total_Gross</td>  <th>  R-squared:         </th> <td>   0.561</td> \n",
       "</tr>\n",
       "<tr>\n",
       "  <th>Model:</th>                   <td>OLS</td>       <th>  Adj. R-squared:    </th> <td>   0.551</td> \n",
       "</tr>\n",
       "<tr>\n",
       "  <th>Method:</th>             <td>Least Squares</td>  <th>  F-statistic:       </th> <td>   56.93</td> \n",
       "</tr>\n",
       "<tr>\n",
       "  <th>Date:</th>             <td>Thu, 23 Apr 2015</td> <th>  Prob (F-statistic):</th> <td>8.95e-130</td>\n",
       "</tr>\n",
       "<tr>\n",
       "  <th>Time:</th>                 <td>10:50:46</td>     <th>  Log-Likelihood:    </th> <td> -14148.</td> \n",
       "</tr>\n",
       "<tr>\n",
       "  <th>No. Observations:</th>      <td>   820</td>      <th>  AIC:               </th> <td>2.833e+04</td>\n",
       "</tr>\n",
       "<tr>\n",
       "  <th>Df Residuals:</th>          <td>   801</td>      <th>  BIC:               </th> <td>2.842e+04</td>\n",
       "</tr>\n",
       "<tr>\n",
       "  <th>Df Model:</th>              <td>    18</td>      <th>                     </th>     <td> </td>    \n",
       "</tr>\n",
       "</table>\n",
       "<table class=\"simpletable\">\n",
       "<tr>\n",
       "            <td></td>               <th>coef</th>     <th>std err</th>      <th>t</th>      <th>P>|t|</th> <th>[95.0% Conf. Int.]</th> \n",
       "</tr>\n",
       "<tr>\n",
       "  <th>Intercept</th>             <td>-2.845e+06</td> <td> 9.64e+05</td> <td>   -2.950</td> <td> 0.003</td> <td>-4.74e+06 -9.52e+05</td>\n",
       "</tr>\n",
       "<tr>\n",
       "  <th>Genres[T.Adventure]</th>   <td> 1.211e+06</td> <td> 1.55e+06</td> <td>    0.782</td> <td> 0.434</td> <td>-1.83e+06  4.25e+06</td>\n",
       "</tr>\n",
       "<tr>\n",
       "  <th>Genres[T.Animation]</th>   <td> 7.471e+06</td> <td>  1.4e+06</td> <td>    5.338</td> <td> 0.000</td> <td> 4.72e+06  1.02e+07</td>\n",
       "</tr>\n",
       "<tr>\n",
       "  <th>Genres[T.Comedy]</th>      <td> 8.354e+05</td> <td> 8.89e+05</td> <td>    0.939</td> <td> 0.348</td> <td>-9.11e+05  2.58e+06</td>\n",
       "</tr>\n",
       "<tr>\n",
       "  <th>Genres[T.Concert]</th>     <td> 6.496e+06</td> <td> 5.46e+06</td> <td>    1.189</td> <td> 0.235</td> <td>-4.22e+06  1.72e+07</td>\n",
       "</tr>\n",
       "<tr>\n",
       "  <th>Genres[T.Crime]</th>       <td> 2.739e+06</td> <td> 4.46e+06</td> <td>    0.614</td> <td> 0.539</td> <td>-6.01e+06  1.15e+07</td>\n",
       "</tr>\n",
       "<tr>\n",
       "  <th>Genres[T.Documentary]</th> <td> -1.48e+05</td> <td> 3.24e+06</td> <td>   -0.046</td> <td> 0.964</td> <td>-6.51e+06  6.22e+06</td>\n",
       "</tr>\n",
       "<tr>\n",
       "  <th>Genres[T.Drama]</th>       <td> 7.781e+05</td> <td> 9.78e+05</td> <td>    0.796</td> <td> 0.426</td> <td>-1.14e+06   2.7e+06</td>\n",
       "</tr>\n",
       "<tr>\n",
       "  <th>Genres[T.Family]</th>      <td> 4.198e+06</td> <td>  3.2e+06</td> <td>    1.313</td> <td> 0.190</td> <td>-2.08e+06  1.05e+07</td>\n",
       "</tr>\n",
       "<tr>\n",
       "  <th>Genres[T.Fantasy]</th>     <td> 5.484e+06</td> <td> 2.43e+06</td> <td>    2.253</td> <td> 0.025</td> <td> 7.06e+05  1.03e+07</td>\n",
       "</tr>\n",
       "<tr>\n",
       "  <th>Genres[T.Horror]</th>      <td> 1.703e+06</td> <td> 1.15e+06</td> <td>    1.479</td> <td> 0.140</td> <td>-5.58e+05  3.96e+06</td>\n",
       "</tr>\n",
       "<tr>\n",
       "  <th>Genres[T.Romance]</th>     <td> 2.721e+06</td> <td>  1.8e+06</td> <td>    1.509</td> <td> 0.132</td> <td>-8.18e+05  6.26e+06</td>\n",
       "</tr>\n",
       "<tr>\n",
       "  <th>Genres[T.Sci-Fi]</th>      <td> 9.468e+04</td> <td> 4.46e+06</td> <td>    0.021</td> <td> 0.983</td> <td>-8.66e+06  8.85e+06</td>\n",
       "</tr>\n",
       "<tr>\n",
       "  <th>Genres[T.Thriller]</th>    <td> 4.335e+05</td> <td> 1.11e+06</td> <td>    0.392</td> <td> 0.695</td> <td>-1.74e+06  2.61e+06</td>\n",
       "</tr>\n",
       "<tr>\n",
       "  <th>Genres[T.War]</th>         <td>  3.32e+06</td> <td> 3.49e+06</td> <td>    0.952</td> <td> 0.341</td> <td>-3.52e+06  1.02e+07</td>\n",
       "</tr>\n",
       "<tr>\n",
       "  <th>Genres[T.Western]</th>     <td> 2.276e+06</td> <td> 4.46e+06</td> <td>    0.510</td> <td> 0.610</td> <td>-6.48e+06   1.1e+07</td>\n",
       "</tr>\n",
       "<tr>\n",
       "  <th>Domestic_Total_Gross</th>  <td>    0.1500</td> <td>    0.006</td> <td>   26.413</td> <td> 0.000</td> <td>    0.139     0.161</td>\n",
       "</tr>\n",
       "<tr>\n",
       "  <th>Budget</th>                <td>    0.0055</td> <td>    0.014</td> <td>    0.405</td> <td> 0.686</td> <td>   -0.021     0.032</td>\n",
       "</tr>\n",
       "<tr>\n",
       "  <th>British</th>               <td> 2.184e+06</td> <td> 6.05e+05</td> <td>    3.612</td> <td> 0.000</td> <td> 9.97e+05  3.37e+06</td>\n",
       "</tr>\n",
       "</table>\n",
       "<table class=\"simpletable\">\n",
       "<tr>\n",
       "  <th>Omnibus:</th>       <td>885.117</td> <th>  Durbin-Watson:     </th>  <td>   1.840</td> \n",
       "</tr>\n",
       "<tr>\n",
       "  <th>Prob(Omnibus):</th> <td> 0.000</td>  <th>  Jarque-Bera (JB):  </th> <td>129695.438</td>\n",
       "</tr>\n",
       "<tr>\n",
       "  <th>Skew:</th>          <td> 4.771</td>  <th>  Prob(JB):          </th>  <td>    0.00</td> \n",
       "</tr>\n",
       "<tr>\n",
       "  <th>Kurtosis:</th>      <td>63.868</td>  <th>  Cond. No.          </th>  <td>     nan</td> \n",
       "</tr>\n",
       "</table>"
      ],
      "text/plain": [
       "<class 'statsmodels.iolib.summary.Summary'>\n",
       "\"\"\"\n",
       "                            OLS Regression Results                            \n",
       "==============================================================================\n",
       "Dep. Variable:         UK_Total_Gross   R-squared:                       0.561\n",
       "Model:                            OLS   Adj. R-squared:                  0.551\n",
       "Method:                 Least Squares   F-statistic:                     56.93\n",
       "Date:                Thu, 23 Apr 2015   Prob (F-statistic):          8.95e-130\n",
       "Time:                        10:50:46   Log-Likelihood:                -14148.\n",
       "No. Observations:                 820   AIC:                         2.833e+04\n",
       "Df Residuals:                     801   BIC:                         2.842e+04\n",
       "Df Model:                          18                                         \n",
       "=========================================================================================\n",
       "                            coef    std err          t      P>|t|      [95.0% Conf. Int.]\n",
       "-----------------------------------------------------------------------------------------\n",
       "Intercept             -2.845e+06   9.64e+05     -2.950      0.003     -4.74e+06 -9.52e+05\n",
       "Genres[T.Adventure]    1.211e+06   1.55e+06      0.782      0.434     -1.83e+06  4.25e+06\n",
       "Genres[T.Animation]    7.471e+06    1.4e+06      5.338      0.000      4.72e+06  1.02e+07\n",
       "Genres[T.Comedy]       8.354e+05   8.89e+05      0.939      0.348     -9.11e+05  2.58e+06\n",
       "Genres[T.Concert]      6.496e+06   5.46e+06      1.189      0.235     -4.22e+06  1.72e+07\n",
       "Genres[T.Crime]        2.739e+06   4.46e+06      0.614      0.539     -6.01e+06  1.15e+07\n",
       "Genres[T.Documentary]  -1.48e+05   3.24e+06     -0.046      0.964     -6.51e+06  6.22e+06\n",
       "Genres[T.Drama]        7.781e+05   9.78e+05      0.796      0.426     -1.14e+06   2.7e+06\n",
       "Genres[T.Family]       4.198e+06    3.2e+06      1.313      0.190     -2.08e+06  1.05e+07\n",
       "Genres[T.Fantasy]      5.484e+06   2.43e+06      2.253      0.025      7.06e+05  1.03e+07\n",
       "Genres[T.Horror]       1.703e+06   1.15e+06      1.479      0.140     -5.58e+05  3.96e+06\n",
       "Genres[T.Romance]      2.721e+06    1.8e+06      1.509      0.132     -8.18e+05  6.26e+06\n",
       "Genres[T.Sci-Fi]       9.468e+04   4.46e+06      0.021      0.983     -8.66e+06  8.85e+06\n",
       "Genres[T.Thriller]     4.335e+05   1.11e+06      0.392      0.695     -1.74e+06  2.61e+06\n",
       "Genres[T.War]           3.32e+06   3.49e+06      0.952      0.341     -3.52e+06  1.02e+07\n",
       "Genres[T.Western]      2.276e+06   4.46e+06      0.510      0.610     -6.48e+06   1.1e+07\n",
       "Domestic_Total_Gross      0.1500      0.006     26.413      0.000         0.139     0.161\n",
       "Budget                    0.0055      0.014      0.405      0.686        -0.021     0.032\n",
       "British                2.184e+06   6.05e+05      3.612      0.000      9.97e+05  3.37e+06\n",
       "==============================================================================\n",
       "Omnibus:                      885.117   Durbin-Watson:                   1.840\n",
       "Prob(Omnibus):                  0.000   Jarque-Bera (JB):           129695.438\n",
       "Skew:                           4.771   Prob(JB):                         0.00\n",
       "Kurtosis:                      63.868   Cond. No.                          nan\n",
       "==============================================================================\n",
       "\n",
       "Warnings:\n",
       "[1] The smallest eigenvalue is   -665. This might indicate that there are\n",
       "strong multicollinearity problems or that the design matrix is singular.\n",
       "\"\"\""
      ]
     },
     "execution_count": 26,
     "metadata": {},
     "output_type": "execute_result"
    }
   ],
   "source": [
    "smf.ols(\"UK_Total_Gross ~ Domestic_Total_Gross + Genres + Budget + British\", US_final_lowbudget).fit().summary()"
   ]
  },
  {
   "cell_type": "code",
   "execution_count": 23,
   "metadata": {
    "collapsed": false
   },
   "outputs": [
    {
     "data": {
      "text/html": [
       "<table class=\"simpletable\">\n",
       "<caption>OLS Regression Results</caption>\n",
       "<tr>\n",
       "  <th>Dep. Variable:</th>     <td>UK_Total_Gross</td>  <th>  R-squared:         </th> <td>   0.756</td>\n",
       "</tr>\n",
       "<tr>\n",
       "  <th>Model:</th>                   <td>OLS</td>       <th>  Adj. R-squared:    </th> <td>   0.735</td>\n",
       "</tr>\n",
       "<tr>\n",
       "  <th>Method:</th>             <td>Least Squares</td>  <th>  F-statistic:       </th> <td>   35.93</td>\n",
       "</tr>\n",
       "<tr>\n",
       "  <th>Date:</th>             <td>Thu, 23 Apr 2015</td> <th>  Prob (F-statistic):</th> <td>2.45e-45</td>\n",
       "</tr>\n",
       "<tr>\n",
       "  <th>Time:</th>                 <td>10:47:51</td>     <th>  Log-Likelihood:    </th> <td> -3341.4</td>\n",
       "</tr>\n",
       "<tr>\n",
       "  <th>No. Observations:</th>      <td>   190</td>      <th>  AIC:               </th> <td>   6715.</td>\n",
       "</tr>\n",
       "<tr>\n",
       "  <th>Df Residuals:</th>          <td>   174</td>      <th>  BIC:               </th> <td>   6767.</td>\n",
       "</tr>\n",
       "<tr>\n",
       "  <th>Df Model:</th>              <td>    15</td>      <th>                     </th>     <td> </td>   \n",
       "</tr>\n",
       "</table>\n",
       "<table class=\"simpletable\">\n",
       "<tr>\n",
       "            <td></td>              <th>coef</th>     <th>std err</th>      <th>t</th>      <th>P>|t|</th> <th>[95.0% Conf. Int.]</th> \n",
       "</tr>\n",
       "<tr>\n",
       "  <th>Intercept</th>            <td>-1.073e+07</td> <td> 3.53e+06</td> <td>   -3.039</td> <td> 0.003</td> <td>-1.77e+07 -3.76e+06</td>\n",
       "</tr>\n",
       "<tr>\n",
       "  <th>Genres[T.Adventure]</th>  <td> 7.937e+06</td> <td> 2.51e+06</td> <td>    3.162</td> <td> 0.002</td> <td> 2.98e+06  1.29e+07</td>\n",
       "</tr>\n",
       "<tr>\n",
       "  <th>Genres[T.Animation]</th>  <td> 5.502e+06</td> <td> 2.34e+06</td> <td>    2.351</td> <td> 0.020</td> <td> 8.83e+05  1.01e+07</td>\n",
       "</tr>\n",
       "<tr>\n",
       "  <th>Genres[T.Comedy]</th>     <td> 8.136e+06</td> <td> 3.59e+06</td> <td>    2.268</td> <td> 0.025</td> <td> 1.06e+06  1.52e+07</td>\n",
       "</tr>\n",
       "<tr>\n",
       "  <th>Genres[T.Drama]</th>      <td> 7.392e+06</td> <td> 4.16e+06</td> <td>    1.775</td> <td> 0.078</td> <td>-8.27e+05  1.56e+07</td>\n",
       "</tr>\n",
       "<tr>\n",
       "  <th>Genres[T.Epic]</th>       <td>  1.27e+07</td> <td> 7.94e+06</td> <td>    1.599</td> <td> 0.112</td> <td>-2.98e+06  2.84e+07</td>\n",
       "</tr>\n",
       "<tr>\n",
       "  <th>Genres[T.Fantasy]</th>    <td> 7.916e+06</td> <td> 3.62e+06</td> <td>    2.185</td> <td> 0.030</td> <td> 7.64e+05  1.51e+07</td>\n",
       "</tr>\n",
       "<tr>\n",
       "  <th>Genres[T.Horror]</th>     <td> 8.902e+06</td> <td> 4.68e+06</td> <td>    1.903</td> <td> 0.059</td> <td>-3.33e+05  1.81e+07</td>\n",
       "</tr>\n",
       "<tr>\n",
       "  <th>Genres[T.Romance]</th>    <td> 8.722e+06</td> <td> 8.05e+06</td> <td>    1.083</td> <td> 0.280</td> <td>-7.17e+06  2.46e+07</td>\n",
       "</tr>\n",
       "<tr>\n",
       "  <th>Genres[T.Sci-Fi]</th>     <td> 3.326e+06</td> <td> 5.72e+06</td> <td>    0.581</td> <td> 0.562</td> <td>-7.97e+06  1.46e+07</td>\n",
       "</tr>\n",
       "<tr>\n",
       "  <th>Genres[T.Thriller]</th>   <td> 1.279e+07</td> <td> 5.71e+06</td> <td>    2.238</td> <td> 0.026</td> <td> 1.51e+06  2.41e+07</td>\n",
       "</tr>\n",
       "<tr>\n",
       "  <th>Genres[T.War]</th>        <td> 5.091e+06</td> <td>  7.9e+06</td> <td>    0.644</td> <td> 0.520</td> <td>-1.05e+07  2.07e+07</td>\n",
       "</tr>\n",
       "<tr>\n",
       "  <th>Genres[T.Western]</th>    <td>-1.214e+06</td> <td>  7.9e+06</td> <td>   -0.154</td> <td> 0.878</td> <td>-1.68e+07  1.44e+07</td>\n",
       "</tr>\n",
       "<tr>\n",
       "  <th>Domestic_Total_Gross</th> <td>    0.1808</td> <td>    0.009</td> <td>   19.568</td> <td> 0.000</td> <td>    0.163     0.199</td>\n",
       "</tr>\n",
       "<tr>\n",
       "  <th>Budget</th>               <td>    0.0339</td> <td>    0.023</td> <td>    1.449</td> <td> 0.149</td> <td>   -0.012     0.080</td>\n",
       "</tr>\n",
       "<tr>\n",
       "  <th>British</th>              <td>-3.692e+05</td> <td> 1.86e+06</td> <td>   -0.198</td> <td> 0.843</td> <td>-4.05e+06  3.31e+06</td>\n",
       "</tr>\n",
       "</table>\n",
       "<table class=\"simpletable\">\n",
       "<tr>\n",
       "  <th>Omnibus:</th>       <td>23.353</td> <th>  Durbin-Watson:     </th> <td>   1.892</td>\n",
       "</tr>\n",
       "<tr>\n",
       "  <th>Prob(Omnibus):</th> <td> 0.000</td> <th>  Jarque-Bera (JB):  </th> <td> 119.405</td>\n",
       "</tr>\n",
       "<tr>\n",
       "  <th>Skew:</th>          <td> 0.004</td> <th>  Prob(JB):          </th> <td>1.18e-26</td>\n",
       "</tr>\n",
       "<tr>\n",
       "  <th>Kurtosis:</th>      <td> 6.884</td> <th>  Cond. No.          </th> <td>     nan</td>\n",
       "</tr>\n",
       "</table>"
      ],
      "text/plain": [
       "<class 'statsmodels.iolib.summary.Summary'>\n",
       "\"\"\"\n",
       "                            OLS Regression Results                            \n",
       "==============================================================================\n",
       "Dep. Variable:         UK_Total_Gross   R-squared:                       0.756\n",
       "Model:                            OLS   Adj. R-squared:                  0.735\n",
       "Method:                 Least Squares   F-statistic:                     35.93\n",
       "Date:                Thu, 23 Apr 2015   Prob (F-statistic):           2.45e-45\n",
       "Time:                        10:47:51   Log-Likelihood:                -3341.4\n",
       "No. Observations:                 190   AIC:                             6715.\n",
       "Df Residuals:                     174   BIC:                             6767.\n",
       "Df Model:                          15                                         \n",
       "========================================================================================\n",
       "                           coef    std err          t      P>|t|      [95.0% Conf. Int.]\n",
       "----------------------------------------------------------------------------------------\n",
       "Intercept            -1.073e+07   3.53e+06     -3.039      0.003     -1.77e+07 -3.76e+06\n",
       "Genres[T.Adventure]   7.937e+06   2.51e+06      3.162      0.002      2.98e+06  1.29e+07\n",
       "Genres[T.Animation]   5.502e+06   2.34e+06      2.351      0.020      8.83e+05  1.01e+07\n",
       "Genres[T.Comedy]      8.136e+06   3.59e+06      2.268      0.025      1.06e+06  1.52e+07\n",
       "Genres[T.Drama]       7.392e+06   4.16e+06      1.775      0.078     -8.27e+05  1.56e+07\n",
       "Genres[T.Epic]         1.27e+07   7.94e+06      1.599      0.112     -2.98e+06  2.84e+07\n",
       "Genres[T.Fantasy]     7.916e+06   3.62e+06      2.185      0.030      7.64e+05  1.51e+07\n",
       "Genres[T.Horror]      8.902e+06   4.68e+06      1.903      0.059     -3.33e+05  1.81e+07\n",
       "Genres[T.Romance]     8.722e+06   8.05e+06      1.083      0.280     -7.17e+06  2.46e+07\n",
       "Genres[T.Sci-Fi]      3.326e+06   5.72e+06      0.581      0.562     -7.97e+06  1.46e+07\n",
       "Genres[T.Thriller]    1.279e+07   5.71e+06      2.238      0.026      1.51e+06  2.41e+07\n",
       "Genres[T.War]         5.091e+06    7.9e+06      0.644      0.520     -1.05e+07  2.07e+07\n",
       "Genres[T.Western]    -1.214e+06    7.9e+06     -0.154      0.878     -1.68e+07  1.44e+07\n",
       "Domestic_Total_Gross     0.1808      0.009     19.568      0.000         0.163     0.199\n",
       "Budget                   0.0339      0.023      1.449      0.149        -0.012     0.080\n",
       "British              -3.692e+05   1.86e+06     -0.198      0.843     -4.05e+06  3.31e+06\n",
       "==============================================================================\n",
       "Omnibus:                       23.353   Durbin-Watson:                   1.892\n",
       "Prob(Omnibus):                  0.000   Jarque-Bera (JB):              119.405\n",
       "Skew:                           0.004   Prob(JB):                     1.18e-26\n",
       "Kurtosis:                       6.884   Cond. No.                          nan\n",
       "==============================================================================\n",
       "\n",
       "Warnings:\n",
       "[1] The smallest eigenvalue is   -482. This might indicate that there are\n",
       "strong multicollinearity problems or that the design matrix is singular.\n",
       "\"\"\""
      ]
     },
     "execution_count": 23,
     "metadata": {},
     "output_type": "execute_result"
    }
   ],
   "source": [
    "smf.ols(\"UK_Total_Gross ~ Domestic_Total_Gross + Genres + Budget + British\", US_final_highbudget).fit().summary()"
   ]
  },
  {
   "cell_type": "code",
   "execution_count": null,
   "metadata": {
    "collapsed": true
   },
   "outputs": [],
   "source": []
  }
 ],
 "metadata": {
  "kernelspec": {
   "display_name": "Python 2",
   "language": "python",
   "name": "python2"
  },
  "language_info": {
   "codemirror_mode": {
    "name": "ipython",
    "version": 2
   },
   "file_extension": ".py",
   "mimetype": "text/x-python",
   "name": "python",
   "nbconvert_exporter": "python",
   "pygments_lexer": "ipython2",
   "version": "2.7.9"
  }
 },
 "nbformat": 4,
 "nbformat_minor": 0
}
