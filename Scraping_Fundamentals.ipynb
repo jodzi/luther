{
 "cells": [
  {
   "cell_type": "markdown",
   "metadata": {},
   "source": [
    "### Get the HTML from a page, and convert to a BeautifulSoup object\n",
    "#### We'll start by scraping some information from Box Office Mojo."
   ]
  },
  {
   "cell_type": "code",
   "execution_count": 2,
   "metadata": {
    "collapsed": true
   },
   "outputs": [],
   "source": [
    "import urllib2\n",
    "import re\n",
    "from bs4 import BeautifulSoup\n",
    "import string"
   ]
  },
  {
   "cell_type": "code",
   "execution_count": 12,
   "metadata": {
    "collapsed": true
   },
   "outputs": [],
   "source": [
    "url = \"http://www.boxofficemojo.com/movies/?id=biglebowski.htm\"\n",
    "page = urllib2.urlopen(url)\n",
    "soup = BeautifulSoup(page)"
   ]
  },
  {
   "cell_type": "code",
   "execution_count": 7,
   "metadata": {
    "collapsed": false
   },
   "outputs": [],
   "source": [
    "#print soup"
   ]
  },
  {
   "cell_type": "markdown",
   "metadata": {},
   "source": [
    "###soup.find()\n",
    "  Search for a type of tag by using the tag as a string (like 'body', 'div', 'a', 'p', etc) as an argument"
   ]
  },
  {
   "cell_type": "code",
   "execution_count": 13,
   "metadata": {
    "collapsed": false
   },
   "outputs": [
    {
     "data": {
      "text/plain": [
       "<a href=\"/goto.php?a=5\" target=\"4\"><font face=\"Verdana\" size=\"3\"><b>'Furious 7' hits $800 million worldwide... &gt;</b></font><br/></a>"
      ]
     },
     "execution_count": 13,
     "metadata": {},
     "output_type": "execute_result"
    }
   ],
   "source": [
    "soup.find(\"a\")"
   ]
  },
  {
   "cell_type": "code",
   "execution_count": 11,
   "metadata": {
    "collapsed": false
   },
   "outputs": [
    {
     "name": "stdout",
     "output_type": "stream",
     "text": [
      "<a href=\"/goto.php?a=5\" target=\"4\">\n",
      " <font face=\"Verdana\" size=\"3\">\n",
      "  <b>\n",
      "   'Furious 7' hits $800 million worldwide... &gt;\n",
      "  </b>\n",
      " </font>\n",
      " <br/>\n",
      "</a>\n",
      "\n"
     ]
    }
   ],
   "source": [
    "#print soup.a\n",
    "print soup.a.prettify()"
   ]
  },
  {
   "cell_type": "markdown",
   "metadata": {},
   "source": [
    "### soup.find_all()\n",
    "  Returns a list of all matches."
   ]
  },
  {
   "cell_type": "code",
   "execution_count": 17,
   "metadata": {
    "collapsed": false
   },
   "outputs": [
    {
     "name": "stdout",
     "output_type": "stream",
     "text": [
      "<a href=\"/goto.php?a=5\" target=\"4\"><font face=\"Verdana\" size=\"3\"><b>'Furious 7' hits $800 million worldwide... &gt;</b></font><br/></a>\n",
      "\n",
      "/goto.php?a=5\n"
     ]
    }
   ],
   "source": [
    "#for link in soup.find_all('a'):\n",
    "#    print link\n",
    "\n",
    "# retrive url from an anchor tag\n",
    "print soup.find('a')\n",
    "print\n",
    "print soup.find('a')['href']"
   ]
  },
  {
   "cell_type": "code",
   "execution_count": 28,
   "metadata": {
    "collapsed": false
   },
   "outputs": [
    {
     "name": "stdout",
     "output_type": "stream",
     "text": [
      "[<td width=\"40%\"><b>Domestic:</b></td>, <td align=\"right\" width=\"35%\"> <b>$17,451,873</b></td>]\n"
     ]
    }
   ],
   "source": [
    "# you can match on an attribute like a class, or an id\n",
    "print soup.find(class_=\"mp_box_content\").find_all('td')"
   ]
  },
  {
   "cell_type": "code",
   "execution_count": 36,
   "metadata": {
    "collapsed": false
   },
   "outputs": [],
   "source": [
    "#soup.find(id=\"hp_footer\").encode('utf-8')\n",
    "#print soup.find(id=\"hp_footer\")"
   ]
  },
  {
   "cell_type": "markdown",
   "metadata": {},
   "source": [
    "## Items to scrape for in each movie:\n",
    "\n",
    "### movie title, total domestic gross, release date, runtime, rating"
   ]
  },
  {
   "cell_type": "code",
   "execution_count": 69,
   "metadata": {
    "collapsed": false
   },
   "outputs": [
    {
     "name": "stdout",
     "output_type": "stream",
     "text": [
      "<title>The Big Lebowski (1998) - Box Office Mojo</title>\n"
     ]
    }
   ],
   "source": [
    "# Movie title\n",
    "print soup.find('title')\n",
    "title_string = soup.find('title').text\n",
    "title_string =  title_string.split(\"(\")[0].strip()"
   ]
  },
  {
   "cell_type": "code",
   "execution_count": 58,
   "metadata": {
    "collapsed": false
   },
   "outputs": [
    {
     "name": "stdout",
     "output_type": "stream",
     "text": [
      "Domestic Total Gross: \n",
      "$17,451,873\n"
     ]
    }
   ],
   "source": [
    "# Domestic Total Gross\n",
    "print soup.find(text='Domestic Total Gross: ')\n",
    "\n",
    "#regex\n",
    "dtg_string = soup.find(text=re.compile(\"Domestic Total Gross:\"))\n",
    "print dtg_string.findNextSibling().text"
   ]
  },
  {
   "cell_type": "code",
   "execution_count": 62,
   "metadata": {
    "collapsed": false
   },
   "outputs": [],
   "source": [
    "def get_movie_value(soup, field_name):\n",
    "    \"\"\"\n",
    "    takes a string attribute of a movie on the page, and returns the string in the next\n",
    "    sibling object (the value for that attritube)\n",
    "    \"\"\"\n",
    "    obj = soup.find(text = re.compile(field_name))\n",
    "    if not obj:\n",
    "        return None\n",
    "    next_sibling = obj.findNextSibling()\n",
    "    if next_sibling:\n",
    "        return next_sibling.text\n",
    "    else:\n",
    "        return None    "
   ]
  },
  {
   "cell_type": "code",
   "execution_count": 66,
   "metadata": {
    "collapsed": false
   },
   "outputs": [
    {
     "name": "stdout",
     "output_type": "stream",
     "text": [
      "$17,451,873\n",
      "1 hrs. 57 min.\n",
      "R\n",
      "March 6, 1998\n"
     ]
    }
   ],
   "source": [
    "dtg = get_movie_value(soup, \"Domestic Total\")\n",
    "print dtg\n",
    "\n",
    "#run time\n",
    "runtime = get_movie_value(soup, \"Runtime\")\n",
    "print runtime\n",
    "\n",
    "#rating\n",
    "rating = get_movie_value(soup, \"MPAA Rating\")\n",
    "print rating\n",
    "\n",
    "#release date\n",
    "release_date = get_movie_value(soup, \"Release Date\")\n",
    "print release_date"
   ]
  },
  {
   "cell_type": "code",
   "execution_count": 77,
   "metadata": {
    "collapsed": true
   },
   "outputs": [],
   "source": [
    "headers = [\"movie title\", \"domestic total gross\", \"release date\", \"runtime\", \"rating\"]\n",
    "movie_data = []\n",
    "movie_dict = dict(zip(headers, [title_string, dtg, release_date, runtime, rating]))\n",
    "movie_data.append(movie_dict)"
   ]
  },
  {
   "cell_type": "code",
   "execution_count": 78,
   "metadata": {
    "collapsed": false
   },
   "outputs": [
    {
     "name": "stdout",
     "output_type": "stream",
     "text": [
      "[{'rating': u'R', 'runtime': u'1 hrs. 57 min.', 'movie title': u'The Big Lebowski', 'domestic total gross': u'$17,451,873', 'release date': u'March 6, 1998'}]\n"
     ]
    }
   ],
   "source": [
    "print movie_data"
   ]
  },
  {
   "cell_type": "markdown",
   "metadata": {},
   "source": [
    "### My Own Testing"
   ]
  },
  {
   "cell_type": "code",
   "execution_count": 150,
   "metadata": {
    "collapsed": true
   },
   "outputs": [],
   "source": [
    "def build_soup_page(url):\n",
    "    \"\"\"\n",
    "    builds a beautifulsoup object from a url\n",
    "    \"\"\"\n",
    "    page = urllib2.urlopen(url)\n",
    "    soup = BeautifulSoup(page)\n",
    "    return soup"
   ]
  },
  {
   "cell_type": "code",
   "execution_count": 191,
   "metadata": {
    "collapsed": true
   },
   "outputs": [],
   "source": [
    "def build_top_index(soup, to_search, beg_url):\n",
    "    \"\"\"\n",
    "    builds an index from a soup object with a search string\n",
    "    \"\"\"\n",
    "    \n",
    "    index = []\n",
    "    \n",
    "    for a in soup.find_all('a', href=True):\n",
    "        if a['href'].startswith(to_search):\n",
    "            index.append(beg_url + a['href'])\n",
    "    end_index = len(index) / 2\n",
    "    \n",
    "    return index[:end_index]"
   ]
  },
  {
   "cell_type": "code",
   "execution_count": 206,
   "metadata": {
    "collapsed": false
   },
   "outputs": [],
   "source": [
    "def build_sub_index(soup, search_one, search_two, beg_url):\n",
    "    \"\"\"\n",
    "    builds an index from a soup object with a search and count string\n",
    "    \"\"\"\n",
    "    \n",
    "    index = []\n",
    "    \n",
    "    for a in soup.find_all('a', href=True):\n",
    "        if a['href'].startswith(search_one) and re.search(search_two, a['href']) != None:\n",
    "            index.append(beg_url + a['href'])\n",
    "    end_index = len(index) / 2\n",
    "    \n",
    "    return index[:end_index]"
   ]
  },
  {
   "cell_type": "code",
   "execution_count": 193,
   "metadata": {
    "collapsed": false
   },
   "outputs": [],
   "source": [
    "# creates a soup object containing the href for all pages A-Z & NUM\n",
    "top_level = build_soup_page(\"http://www.boxofficemojo.com/movies\")\n",
    "# builds a list of each url ending for NUM and A-Z movie pages\n",
    "top_level_urls = build_top_index(top_level, 'alphabetical', \"http://www.boxofficemojo.com/movies/\")"
   ]
  },
  {
   "cell_type": "code",
   "execution_count": 203,
   "metadata": {
    "collapsed": false
   },
   "outputs": [],
   "source": [
    "#for a in top_level.find_all('a', href=True):\n",
    "#    if a['href'].find('alphabetical') != -1:\n",
    "#        print a['href']\n",
    "total_urls = []"
   ]
  },
  {
   "cell_type": "code",
   "execution_count": 204,
   "metadata": {
    "collapsed": false,
    "scrolled": true
   },
   "outputs": [],
   "source": [
    "total_urls = top_level_urls[:]\n",
    "\n",
    "for top_level_url in top_level_urls:\n",
    "    top_level_soup = build_soup_page(top_level_url)\n",
    "    sub_level = build_sub_index(top_level_soup, '/movies/', 'page', \"http://www.boxofficemojo.com\")\n",
    "    if len(sub_level) > 0:\n",
    "        for sub_level_url in sub_level:\n",
    "            if sub_level_url.count('id') == 0:\n",
    "                total_urls.append(sub_level_url)"
   ]
  },
  {
   "cell_type": "code",
   "execution_count": 207,
   "metadata": {
    "collapsed": false
   },
   "outputs": [],
   "source": [
    "#sorted(total_urls)"
   ]
  },
  {
   "cell_type": "code",
   "execution_count": 208,
   "metadata": {
    "collapsed": false
   },
   "outputs": [],
   "source": [
    "def build_single_movie_url_list(total_urls, box_url):\n",
    "    \"\"\"\n",
    "    builds a list of every movies url\n",
    "    \"\"\"\n",
    "    \n",
    "    single_movie_url_tags = []\n",
    "\n",
    "    for full_site in total_urls:\n",
    "        soup = build_soup_page(full_site)\n",
    "        for a in soup.find_all('a', href=True):\n",
    "            if re.search('id', a['href']) != None and a['href'] != '/movies/?id=fast7.htm':\n",
    "                single_movie_url_tags.append(box_url + a['href'])\n",
    "    single_movie_url_tags.append(box_url + '/movies/?id=fast7.htm')\n",
    "    \n",
    "    return single_movie_url_tags"
   ]
  },
  {
   "cell_type": "code",
   "execution_count": 210,
   "metadata": {
    "collapsed": false
   },
   "outputs": [],
   "source": [
    "#builds a list of every movies full url to scrape\n",
    "single_movies = build_single_movie_url_list(total_urls, 'http://www.boxofficemojo.com')"
   ]
  },
  {
   "cell_type": "code",
   "execution_count": 212,
   "metadata": {
    "collapsed": false
   },
   "outputs": [
    {
     "data": {
      "text/plain": [
       "14966"
      ]
     },
     "execution_count": 212,
     "metadata": {},
     "output_type": "execute_result"
    }
   ],
   "source": [
    "len(sorted(single_movies))"
   ]
  },
  {
   "cell_type": "code",
   "execution_count": 165,
   "metadata": {
    "collapsed": true
   },
   "outputs": [],
   "source": [
    "#gets rid of duplicate movies\n",
    "single_movies_copy = single_movies[:]\n",
    "\n",
    "for el in single_movies_copy:\n",
    "    if single_movies_copy.count(el) > 1:\n",
    "        single_movies.remove(el)"
   ]
  },
  {
   "cell_type": "code",
   "execution_count": 167,
   "metadata": {
    "collapsed": false
   },
   "outputs": [],
   "source": [
    "#sorted(single_movies)"
   ]
  },
  {
   "cell_type": "markdown",
   "metadata": {},
   "source": [
    "### Start building data structure of features"
   ]
  },
  {
   "cell_type": "code",
   "execution_count": 11,
   "metadata": {
    "collapsed": true
   },
   "outputs": [],
   "source": [
    "def get_movie_value(soup, field_name):\n",
    "    \"\"\"\n",
    "    takes a string attribute of a movie on the page, and returns the string in the next\n",
    "    sibling object (the value for that attritube)\n",
    "    \"\"\"\n",
    "    obj = soup.find(text = re.compile(field_name))\n",
    "    if not obj:\n",
    "        return None\n",
    "    next_sibling = obj.findNextSibling()\n",
    "    if next_sibling:\n",
    "        return next_sibling.text\n",
    "    else:\n",
    "        return None  "
   ]
  },
  {
   "cell_type": "code",
   "execution_count": 16,
   "metadata": {
    "collapsed": false
   },
   "outputs": [],
   "source": [
    "test = []\n",
    "\n",
    "for movie in single_movies[:1000]:\n",
    "    try:\n",
    "        soup = build_soup_page(movie)\n",
    "    except:\n",
    "        continue\n",
    "    dtg = get_movie_value(soup, \"Domestic Total\")\n",
    "    runtime = get_movie_value(soup, \"Runtime\")\n",
    "    rating = get_movie_value(soup, \"MPAA Rating\")\n",
    "    release_date = get_movie_value(soup, \"Release Date\")\n",
    "    test.append([dtg, runtime, rating, release_date])"
   ]
  },
  {
   "cell_type": "code",
   "execution_count": 106,
   "metadata": {
    "collapsed": false
   },
   "outputs": [],
   "source": [
    "#for el in test:\n",
    "#    print el"
   ]
  },
  {
   "cell_type": "code",
   "execution_count": null,
   "metadata": {
    "collapsed": true
   },
   "outputs": [],
   "source": []
  }
 ],
 "metadata": {
  "kernelspec": {
   "display_name": "Python 2",
   "language": "python",
   "name": "python2"
  },
  "language_info": {
   "codemirror_mode": {
    "name": "ipython",
    "version": 2
   },
   "file_extension": ".py",
   "mimetype": "text/x-python",
   "name": "python",
   "nbconvert_exporter": "python",
   "pygments_lexer": "ipython2",
   "version": "2.7.9"
  }
 },
 "nbformat": 4,
 "nbformat_minor": 0
}
